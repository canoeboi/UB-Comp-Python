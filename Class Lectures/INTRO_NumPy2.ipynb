{
 "cells": [
  {
   "cell_type": "code",
   "execution_count": 1,
   "metadata": {},
   "outputs": [],
   "source": [
    "import numpy as np  # yup thats it"
   ]
  },
  {
   "cell_type": "markdown",
   "metadata": {},
   "source": [
    "### Random Sampling\n",
    "NumPy has some tools for generating random samples. Each has its specific usages and advantages. We will investigate a few of these briefly but again visit the NumPy documentation for a complete referrence. "
   ]
  },
  {
   "cell_type": "code",
   "execution_count": 6,
   "metadata": {},
   "outputs": [
    {
     "data": {
      "text/plain": [
       "array([ 0.72887397,  0.11010912,  0.10561209,  0.80414468,  0.64235741,\n",
       "        0.33867329,  0.38464653,  0.91567963,  0.80467241,  0.81171195,\n",
       "        0.16406302,  0.91776607,  0.61774358,  0.69428262,  0.71057708,\n",
       "        0.71974008,  0.14178484,  0.5754328 ,  0.13908481,  0.15692219,\n",
       "        0.28228817,  0.81787331,  0.97729425,  0.59645642,  0.30045334])"
      ]
     },
     "execution_count": 6,
     "metadata": {},
     "output_type": "execute_result"
    }
   ],
   "source": [
    "# you can create arrays with random values inside\n",
    "a = np.random.rand(25)  # random number from 0-1 \n",
    "a         # the 1 in the paranthesis is the dimension of array"
   ]
  },
  {
   "cell_type": "code",
   "execution_count": 4,
   "metadata": {},
   "outputs": [
    {
     "data": {
      "text/plain": [
       "array([[ 0.3340914 ,  0.31203252,  0.47998479,  0.40733019,  0.34296724],\n",
       "       [ 0.6889197 ,  0.754771  ,  0.50681148,  0.21336499,  0.80153957],\n",
       "       [ 0.90361957,  0.1104925 ,  0.69393226,  0.22096957,  0.41783638],\n",
       "       [ 0.11390563,  0.40156506,  0.76893991,  0.02137118,  0.56850509],\n",
       "       [ 0.89166505,  0.90246817,  0.44323996,  0.99563277,  0.27215129]])"
      ]
     },
     "execution_count": 4,
     "metadata": {},
     "output_type": "execute_result"
    }
   ],
   "source": [
    "b = np.random.rand(5,5)\n",
    "b"
   ]
  },
  {
   "cell_type": "code",
   "execution_count": 9,
   "metadata": {},
   "outputs": [
    {
     "data": {
      "text/plain": [
       "array([-0.28321369, -1.47304691, -0.48496634])"
      ]
     },
     "execution_count": 9,
     "metadata": {},
     "output_type": "execute_result"
    }
   ],
   "source": [
    "# very similar but this samples from normal distribution\n",
    "c = np.random.randn(3) #chooses between -1 and 1\n",
    "c"
   ]
  },
  {
   "cell_type": "code",
   "execution_count": 10,
   "metadata": {},
   "outputs": [
    {
     "data": {
      "text/plain": [
       "2"
      ]
     },
     "execution_count": 10,
     "metadata": {},
     "output_type": "execute_result"
    }
   ],
   "source": [
    "# random integers \n",
    "d = np.random.randint(3)  # 3 is upper bound\n",
    "d"
   ]
  },
  {
   "cell_type": "code",
   "execution_count": 11,
   "metadata": {},
   "outputs": [
    {
     "data": {
      "text/plain": [
       "array([6, 5, 9, 3, 1])"
      ]
     },
     "execution_count": 11,
     "metadata": {},
     "output_type": "execute_result"
    }
   ],
   "source": [
    "rand = np.random.randint(1,10, size = 5)  # (low, high, size)\n",
    "rand"
   ]
  },
  {
   "cell_type": "code",
   "execution_count": 13,
   "metadata": {},
   "outputs": [
    {
     "data": {
      "text/plain": [
       "array([[ 1.76405235,  0.40015721,  0.97873798],\n",
       "       [ 2.2408932 ,  1.86755799, -0.97727788],\n",
       "       [ 0.95008842, -0.15135721, -0.10321885],\n",
       "       [ 0.4105985 ,  0.14404357,  1.45427351]])"
      ]
     },
     "execution_count": 13,
     "metadata": {},
     "output_type": "execute_result"
    }
   ],
   "source": [
    "# using a seed for repeatable results\n",
    "np.random.seed(0) \n",
    "rand_arr = np.random.randn(4,3)\n",
    "rand_arr #running this in the same cell will always print the same results"
   ]
  },
  {
   "cell_type": "markdown",
   "metadata": {},
   "source": [
    "### Common functions for NumPy arrays"
   ]
  },
  {
   "cell_type": "code",
   "execution_count": 16,
   "metadata": {},
   "outputs": [
    {
     "name": "stdout",
     "output_type": "stream",
     "text": [
      "avg 4.8\n"
     ]
    },
    {
     "data": {
      "text/plain": [
       "0.95999999999999996"
      ]
     },
     "execution_count": 16,
     "metadata": {},
     "output_type": "execute_result"
    }
   ],
   "source": [
    "# mean of values in an array\n",
    "print('avg',np.mean(rand))\n",
    "calc_avg = np.sum(rand)/25\n",
    "calc_avg"
   ]
  },
  {
   "cell_type": "code",
   "execution_count": 17,
   "metadata": {},
   "outputs": [
    {
     "data": {
      "text/plain": [
       "7.3599999999999994"
      ]
     },
     "execution_count": 17,
     "metadata": {},
     "output_type": "execute_result"
    }
   ],
   "source": [
    "# variance \n",
    "np.var(rand)"
   ]
  },
  {
   "cell_type": "code",
   "execution_count": 18,
   "metadata": {},
   "outputs": [
    {
     "data": {
      "text/plain": [
       "2.7129319932501073"
      ]
     },
     "execution_count": 18,
     "metadata": {},
     "output_type": "execute_result"
    }
   ],
   "source": [
    "# standard deviation\n",
    "np.std(rand)"
   ]
  },
  {
   "cell_type": "code",
   "execution_count": 19,
   "metadata": {},
   "outputs": [
    {
     "data": {
      "text/plain": [
       "24"
      ]
     },
     "execution_count": 19,
     "metadata": {},
     "output_type": "execute_result"
    }
   ],
   "source": [
    "# sum of the values\n",
    "np.sum(rand) #"
   ]
  },
  {
   "cell_type": "code",
   "execution_count": 25,
   "metadata": {},
   "outputs": [
    {
     "name": "stdout",
     "output_type": "stream",
     "text": [
      "[[1 2]\n",
      " [3 4]]\n"
     ]
    },
    {
     "data": {
      "text/plain": [
       "array([3, 7])"
      ]
     },
     "execution_count": 25,
     "metadata": {},
     "output_type": "execute_result"
    }
   ],
   "source": [
    "# for matrices that are not 1d, specify axis\n",
    "v = np.array([[1,2],[3,4]])\n",
    "print(v)\n",
    "row_sum = np.sum(v, axis=1) #axis=1 adds the rows(left to right) and axis = 0 adds the columns(up and down)\n",
    "row_sum"
   ]
  },
  {
   "cell_type": "code",
   "execution_count": 24,
   "metadata": {},
   "outputs": [
    {
     "name": "stdout",
     "output_type": "stream",
     "text": [
      "[[1 2]\n",
      " [3 4]]\n"
     ]
    },
    {
     "data": {
      "text/plain": [
       "array([4, 6])"
      ]
     },
     "execution_count": 24,
     "metadata": {},
     "output_type": "execute_result"
    }
   ],
   "source": [
    "col_sum = np.sum(v, axis=0) #axis = 0 adds the columns\n",
    "print(v)\n",
    "col_sum"
   ]
  },
  {
   "cell_type": "code",
   "execution_count": 27,
   "metadata": {},
   "outputs": [
    {
     "name": "stdout",
     "output_type": "stream",
     "text": [
      "[ 0.8644362  -0.74216502  2.26975462 -1.45436567  0.04575852 -0.18718385\n",
      "  1.53277921  1.46935877  0.15494743  0.37816252]\n",
      "2.26975462399\n",
      "-1.4543656746\n"
     ]
    }
   ],
   "source": [
    "# you can find the min and max \n",
    "sample = np.random.randn(10) #creates an array of 10 values\n",
    "sample_max = np.max(sample) #takes the highest value in generated array\n",
    "sample_min = np.min(sample) #takes the lowest value in generated array\n",
    "print(sample) #prints the requested elements\n",
    "print(sample_max)\n",
    "print(sample_min)"
   ]
  },
  {
   "cell_type": "code",
   "execution_count": 29,
   "metadata": {},
   "outputs": [
    {
     "name": "stdout",
     "output_type": "stream",
     "text": [
      "2\n"
     ]
    },
    {
     "data": {
      "text/plain": [
       "3"
      ]
     },
     "execution_count": 29,
     "metadata": {},
     "output_type": "execute_result"
    }
   ],
   "source": [
    "# use argmax and argmin to find the index for min and mx values\n",
    "print(np.argmax(sample))\n",
    "np.argmin(sample)  # python indexing starts from 0"
   ]
  },
  {
   "cell_type": "code",
   "execution_count": 31,
   "metadata": {},
   "outputs": [
    {
     "name": "stdout",
     "output_type": "stream",
     "text": [
      "data [[ 0.17742614 -0.40178094 -1.63019835  0.46278226]\n",
      " [-0.90729836  0.0519454   0.72909056  0.12898291]\n",
      " [ 1.13940068 -1.23482582  0.40234164 -0.68481009]\n",
      " [-0.87079715 -0.57884966 -0.31155253  0.05616534]]\n",
      "totals [-0.46126869 -2.16351103 -0.81031868 -0.03687958]\n"
     ]
    },
    {
     "data": {
      "text/plain": [
       "(3, -0.036879582427382887)"
      ]
     },
     "execution_count": 31,
     "metadata": {},
     "output_type": "execute_result"
    }
   ],
   "source": [
    "# you can combine commands together\n",
    "data = np.random.randn(4,4) # create random data\n",
    "print('data',data)\n",
    "col_totals = np.sum(data, axis=0)  # total the columns (adds up and down)\n",
    "print('totals',col_totals)\n",
    "max_col_total = (np.argmax(col_totals),np.max(col_totals))\n",
    "max_col_total  # 1st output is the index, 2nd is the value for max"
   ]
  },
  {
   "cell_type": "code",
   "execution_count": null,
   "metadata": {},
   "outputs": [],
   "source": [
    "# heres how to do in 1 line\n",
    "max_col_tot = (np.argmax(np.sum(data,axis=0)),\n",
    "               np.max(np.sum(data,axis=0)))\n",
    "max_col_tot"
   ]
  },
  {
   "cell_type": "markdown",
   "metadata": {},
   "source": [
    "### PHYSICS EXAMPLE\n",
    "Lets say everyday we record the average temperature for an object. We are interested in finding the day where the object had its maximum temperature. We will first generate random data and this use numpy functions to find the answer. "
   ]
  },
  {
   "cell_type": "code",
   "execution_count": 32,
   "metadata": {},
   "outputs": [
    {
     "name": "stdout",
     "output_type": "stream",
     "text": [
      "time of max temp -  52 days\n",
      "max temp -  49.9423503284 degrees Celsius\n"
     ]
    }
   ],
   "source": [
    "# generate random velocities (must be positive)\n",
    "temp_data = 50*np.random.rand(100)\n",
    "print('day of max temp - ',np.argmax(temp_data)+1, 'days')\n",
    "print('max temp - ',np.max(temp_data), 'degrees Celsius')"
   ]
  },
  {
   "cell_type": "code",
   "execution_count": 35,
   "metadata": {},
   "outputs": [
    {
     "name": "stdout",
     "output_type": "stream",
     "text": [
      "[[1 2 3]\n",
      " [4 5 6]\n",
      " [7 8 9]]\n"
     ]
    },
    {
     "data": {
      "text/plain": [
       "(3, 3)"
      ]
     },
     "execution_count": 35,
     "metadata": {},
     "output_type": "execute_result"
    }
   ],
   "source": [
    "# shape gets the dimensions\n",
    "a = np.array([[1,2,3],[4,5,6],[7,8,9]])  # syntax for 3x3\n",
    "print(a)\n",
    "a.shape #displays the dimensions, only works when both row/column length is the same"
   ]
  },
  {
   "cell_type": "code",
   "execution_count": 36,
   "metadata": {},
   "outputs": [
    {
     "data": {
      "text/plain": [
       "3"
      ]
     },
     "execution_count": 36,
     "metadata": {},
     "output_type": "execute_result"
    }
   ],
   "source": [
    "# len still works\n",
    "len(a)"
   ]
  },
  {
   "cell_type": "code",
   "execution_count": 37,
   "metadata": {},
   "outputs": [
    {
     "name": "stdout",
     "output_type": "stream",
     "text": [
      "1\n",
      "5\n",
      "9\n",
      "[1 2 3]\n",
      "[[1 2 3]\n",
      " [4 5 6]]\n"
     ]
    },
    {
     "data": {
      "text/plain": [
       "array([[1, 2],\n",
       "       [4, 5],\n",
       "       [7, 8]])"
      ]
     },
     "execution_count": 37,
     "metadata": {},
     "output_type": "execute_result"
    }
   ],
   "source": [
    "# you can index through the elements of the array\n",
    "print(a[0][0])  # first element of first row\n",
    "print(a[1][1]) # second element of second row\n",
    "print(a[-1][-1])  # last element second row\n",
    "print(a[0])  # first row\n",
    "print(a[0:2])  # first 2 rows\n",
    "a[:,0:2]  # first 2 columns"
   ]
  },
  {
   "cell_type": "code",
   "execution_count": 38,
   "metadata": {},
   "outputs": [
    {
     "data": {
      "text/plain": [
       "array([1, 2, 3, 4, 5, 6])"
      ]
     },
     "execution_count": 38,
     "metadata": {},
     "output_type": "execute_result"
    }
   ],
   "source": [
    "# merging numpy arrays horizontally\n",
    "first = np.array([1,2,3])\n",
    "second = np.array([4,5,6])\n",
    "frst_scnd = np.hstack((first,second))\n",
    "frst_scnd"
   ]
  },
  {
   "cell_type": "code",
   "execution_count": 39,
   "metadata": {},
   "outputs": [
    {
     "data": {
      "text/plain": [
       "array([[1, 2, 3],\n",
       "       [4, 5, 6]])"
      ]
     },
     "execution_count": 39,
     "metadata": {},
     "output_type": "execute_result"
    }
   ],
   "source": [
    "# merge vertically\n",
    "new_arr = np.vstack((first,second))\n",
    "new_arr"
   ]
  },
  {
   "cell_type": "code",
   "execution_count": null,
   "metadata": {},
   "outputs": [],
   "source": []
  }
 ],
 "metadata": {
  "kernelspec": {
   "display_name": "Python 3",
   "language": "python",
   "name": "python3"
  },
  "language_info": {
   "codemirror_mode": {
    "name": "ipython",
    "version": 3
   },
   "file_extension": ".py",
   "mimetype": "text/x-python",
   "name": "python",
   "nbconvert_exporter": "python",
   "pygments_lexer": "ipython3",
   "version": "3.5.3"
  }
 },
 "nbformat": 4,
 "nbformat_minor": 2
}
