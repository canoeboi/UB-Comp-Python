{
 "cells": [
  {
   "cell_type": "markdown",
   "metadata": {},
   "source": [
    "# INTRO TO PYTHON NOTEBOOKS\n",
    "\n",
    "### Markdown vs Code\n",
    "In a mark down cell we can write text in paragraph format like this. Throughout the class we will emphasize using markdown cells to describe all the code we write. This becomes very helpful when someone else tries to use your work or you look back at old notebooks.\n",
    "\n",
    "# Font size \n",
    "## For headers\n",
    "### Gets smaller\n",
    "#### with more\n",
    "##### hashtags\n",
    "\n",
    "For **Bold** text\n",
    "\n",
    "For *Italic* text\n",
    "\n",
    "If you're familiar with LaTex format it also recognizes the syntax:\n",
    "\n",
    "$$ \\psi = [A\\sin(kx) + B\\cos(kx)]e^{-i\\omega t}  $$\n",
    "\n",
    "Great for writing equations.\n",
    "\n",
    "### Code Cells\n",
    "Code cells are used for actual computing. Practice doing simple calculator like functions."
   ]
  },
  {
   "cell_type": "code",
   "execution_count": 3,
   "metadata": {},
   "outputs": [
    {
     "data": {
      "text/plain": [
       "4935"
      ]
     },
     "execution_count": 3,
     "metadata": {},
     "output_type": "execute_result"
    }
   ],
   "source": [
    "# hashtags in code cells make comments. whatever follows the hashtag is simply in the cell\n",
    "# and is not ran as part of the code. This is great for small comments about what a line\n",
    "# of code does and we will practice commenting all of our cells\n",
    "\n",
    "# calculator like functions\n",
    "5*987"
   ]
  },
  {
   "cell_type": "markdown",
   "metadata": {},
   "source": [
    "### Printing Outputs"
   ]
  },
  {
   "cell_type": "code",
   "execution_count": 4,
   "metadata": {},
   "outputs": [
    {
     "data": {
      "text/plain": [
       "10.0"
      ]
     },
     "execution_count": 4,
     "metadata": {},
     "output_type": "execute_result"
    }
   ],
   "source": [
    "# python prints the last line if there is an output\n",
    "5*5\n",
    "12/3\n",
    "100/10"
   ]
  },
  {
   "cell_type": "code",
   "execution_count": 5,
   "metadata": {},
   "outputs": [
    {
     "name": "stdout",
     "output_type": "stream",
     "text": [
      "25\n",
      "4.0\n"
     ]
    },
    {
     "data": {
      "text/plain": [
       "10.0"
      ]
     },
     "execution_count": 5,
     "metadata": {},
     "output_type": "execute_result"
    }
   ],
   "source": [
    "# use print statements otherwise\n",
    "print(5*5)\n",
    "print(12/3)\n",
    "100/10"
   ]
  },
  {
   "cell_type": "code",
   "execution_count": 6,
   "metadata": {},
   "outputs": [
    {
     "name": "stdout",
     "output_type": "stream",
     "text": [
      "Hello world\n",
      "Five times five equals = 25\n"
     ]
    }
   ],
   "source": [
    "# printing a text we will now call a string\n",
    "print('Hello world')   # the ' ' defines a string and is highlighted in red\n",
    "print('Five times five equals =',5*5)  # combine strings with mathematical output"
   ]
  },
  {
   "cell_type": "code",
   "execution_count": 7,
   "metadata": {},
   "outputs": [
    {
     "data": {
      "text/plain": [
       "125"
      ]
     },
     "execution_count": 7,
     "metadata": {},
     "output_type": "execute_result"
    }
   ],
   "source": [
    "# exponents\n",
    "5**3"
   ]
  },
  {
   "cell_type": "code",
   "execution_count": null,
   "metadata": {},
   "outputs": [],
   "source": []
  }
 ],
 "metadata": {
  "kernelspec": {
   "display_name": "Python 3",
   "language": "python",
   "name": "python3"
  },
  "language_info": {
   "codemirror_mode": {
    "name": "ipython",
    "version": 3
   },
   "file_extension": ".py",
   "mimetype": "text/x-python",
   "name": "python",
   "nbconvert_exporter": "python",
   "pygments_lexer": "ipython3",
   "version": "3.5.3"
  }
 },
 "nbformat": 4,
 "nbformat_minor": 2
}
