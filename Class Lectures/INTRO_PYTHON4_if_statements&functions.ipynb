{
 "cells": [
  {
   "cell_type": "markdown",
   "metadata": {},
   "source": [
    "### Lists and For Loops\n",
    "Variables can be defined for different objects. For example we could save a list of values like this:"
   ]
  },
  {
   "cell_type": "code",
   "execution_count": 15,
   "metadata": {},
   "outputs": [
    {
     "name": "stdout",
     "output_type": "stream",
     "text": [
      "[1, 2, 3, 4, 5, 6]\n",
      "(0, 1, 2, 3, 4, 5)\n"
     ]
    },
    {
     "data": {
      "text/plain": [
       "tuple"
      ]
     },
     "execution_count": 15,
     "metadata": {},
     "output_type": "execute_result"
    }
   ],
   "source": [
    "my_list = [1,2,3,4,5,6]  # list syntax\n",
    "print(my_list)\n",
    "\n",
    "object_a = (0,1,2,3,4,5)\n",
    "\n",
    "print(object_a)\n",
    "\n",
    "type(object_a)"
   ]
  },
  {
   "cell_type": "code",
   "execution_count": 18,
   "metadata": {},
   "outputs": [
    {
     "name": "stdout",
     "output_type": "stream",
     "text": [
      "1\n",
      "[1, 2, 3, 4, 5, 6]\n",
      "[3, 4, 5]\n",
      "6\n",
      "5\n",
      "[6, 5, 4, 3, 2, 1]\n"
     ]
    }
   ],
   "source": [
    "# accessing elements of a list\n",
    "# indexing \n",
    "print(my_list[0])  # first elemement of the list\n",
    "print(my_list[:])  # print entire list\n",
    "print(my_list[2:5]) # print the third, fourth, and fifth elements of list\n",
    "print(my_list[-1])# print last element of list\n",
    "print(my_list[-2])\n",
    "print(my_list[::-1])  # reverse the list\n",
    "\n",
    "my_short_list = my_list[2:5]\n",
    "#when indexing lists you should use a new variable name to prevent overwriting kernel\n",
    "rev_list = my_list[::-1]"
   ]
  },
  {
   "cell_type": "code",
   "execution_count": 19,
   "metadata": {},
   "outputs": [
    {
     "data": {
      "text/plain": [
       "[0, 1, 2, 3, 4, 5, 6, 7, 8, 9]"
      ]
     },
     "execution_count": 19,
     "metadata": {},
     "output_type": "execute_result"
    }
   ],
   "source": [
    "# lists can be created using a for loop\n",
    "new_list = [i for i in range(0,10,1)]  # the for loop adds each number from 0-9 to the list\n",
    "new_list"
   ]
  },
  {
   "cell_type": "code",
   "execution_count": 3,
   "metadata": {},
   "outputs": [
    {
     "data": {
      "text/plain": [
       "[0, 1, 2, 3, 4, 5, 6, 7, 8, 9]"
      ]
     },
     "execution_count": 3,
     "metadata": {},
     "output_type": "execute_result"
    }
   ],
   "source": [
    "# using for loops and append command\n",
    "cool_list = []  # create an empty list\n",
    "for i in range(10):  # for loop over values 0-9\n",
    "    cool_list.append(i)  # add each value to the list from 0-9\n",
    "cool_list"
   ]
  },
  {
   "cell_type": "code",
   "execution_count": 20,
   "metadata": {},
   "outputs": [
    {
     "data": {
      "text/plain": [
       "10"
      ]
     },
     "execution_count": 20,
     "metadata": {},
     "output_type": "execute_result"
    }
   ],
   "source": [
    "# len command for lists (other objects) gives ength of objects\n",
    "len(cool_list)"
   ]
  },
  {
   "cell_type": "code",
   "execution_count": null,
   "metadata": {},
   "outputs": [],
   "source": [
    "# using a list to make new list and using len command\n",
    "super_cool_list = []   \n",
    "for i in range(0,len(cool_list),1):   # or loop goes from 0 to the length of cool_list\n",
    "    super_cool_list.append(cool_list[i]**2)  # for each item in cool_list we square and append to super_cool_list\n",
    "super_cool_list"
   ]
  },
  {
   "cell_type": "markdown",
   "metadata": {},
   "source": [
    "### PHYSICS EXAMPLE USING LISTS\n",
    "We all know the famous equation from Newton's Laws:\n",
    "\n",
    "$$ F= m a $$\n",
    "\n",
    "F : Force\n",
    "\n",
    "m : mass \n",
    "\n",
    "a : acceleration\n",
    "\n",
    "If a ball has a mass of 5 kg and I give you a list of accelerations [2,4,6,8,10] m/s^2. Can you use lists to find the corresponding force for each acceleration?"
   ]
  },
  {
   "cell_type": "code",
   "execution_count": 18,
   "metadata": {},
   "outputs": [],
   "source": [
    "# define each list and mass variable\n",
    "accel_list = [2,4,6,8,10]\n",
    "m_kg = 5\n",
    "\n",
    "\n",
    "# write loop to calculate forces\n",
    "Force_list = []\n",
    "for i in range(0,len(accel_list),1):\n",
    "    Force_list.append(accel_list[i]*m_kg)\n",
    "\n"
   ]
  },
  {
   "cell_type": "code",
   "execution_count": 19,
   "metadata": {},
   "outputs": [
    {
     "name": "stdout",
     "output_type": "stream",
     "text": [
      "[2, 4, 6, 8, 10]\n"
     ]
    },
    {
     "data": {
      "text/plain": [
       "[10, 20, 30, 40, 50]"
      ]
     },
     "execution_count": 19,
     "metadata": {},
     "output_type": "execute_result"
    }
   ],
   "source": [
    "# print \n",
    "print(accel_list)\n",
    "Force_list"
   ]
  },
  {
   "cell_type": "raw",
   "metadata": {},
   "source": [
    "### Practice creating lists with for loops\n",
    "\n",
    "1) Create a list that contains all the even values from 0 to 1000.\n",
    "Evens_list\n",
    "\n",
    "2) Create a list that contains all the off values from 100 to 500.\n",
    "Odds_list\n",
    "\n",
    "3) Create 2 different lists (a_list and b_list) that have 10 values. Must be the same length\n",
    "type 'len(a_list)==len(b_list)' Try to use a for loop to add these 2 lists."
   ]
  },
  {
   "cell_type": "code",
   "execution_count": 12,
   "metadata": {},
   "outputs": [
    {
     "name": "stdout",
     "output_type": "stream",
     "text": [
      "[0, 2, 4, 6, 8, 10, 12, 14, 16, 18, 20, 22, 24, 26, 28, 30, 32, 34, 36, 38, 40, 42, 44, 46, 48, 50, 52, 54, 56, 58, 60, 62, 64, 66, 68, 70, 72, 74, 76, 78, 80, 82, 84, 86, 88, 90, 92, 94, 96, 98, 100, 102, 104, 106, 108, 110, 112, 114, 116, 118, 120, 122, 124, 126, 128, 130, 132, 134, 136, 138, 140, 142, 144, 146, 148, 150, 152, 154, 156, 158, 160, 162, 164, 166, 168, 170, 172, 174, 176, 178, 180, 182, 184, 186, 188, 190, 192, 194, 196, 198, 200, 202, 204, 206, 208, 210, 212, 214, 216, 218, 220, 222, 224, 226, 228, 230, 232, 234, 236, 238, 240, 242, 244, 246, 248, 250, 252, 254, 256, 258, 260, 262, 264, 266, 268, 270, 272, 274, 276, 278, 280, 282, 284, 286, 288, 290, 292, 294, 296, 298, 300, 302, 304, 306, 308, 310, 312, 314, 316, 318, 320, 322, 324, 326, 328, 330, 332, 334, 336, 338, 340, 342, 344, 346, 348, 350, 352, 354, 356, 358, 360, 362, 364, 366, 368, 370, 372, 374, 376, 378, 380, 382, 384, 386, 388, 390, 392, 394, 396, 398, 400, 402, 404, 406, 408, 410, 412, 414, 416, 418, 420, 422, 424, 426, 428, 430, 432, 434, 436, 438, 440, 442, 444, 446, 448, 450, 452, 454, 456, 458, 460, 462, 464, 466, 468, 470, 472, 474, 476, 478, 480, 482, 484, 486, 488, 490, 492, 494, 496, 498, 500, 502, 504, 506, 508, 510, 512, 514, 516, 518, 520, 522, 524, 526, 528, 530, 532, 534, 536, 538, 540, 542, 544, 546, 548, 550, 552, 554, 556, 558, 560, 562, 564, 566, 568, 570, 572, 574, 576, 578, 580, 582, 584, 586, 588, 590, 592, 594, 596, 598, 600, 602, 604, 606, 608, 610, 612, 614, 616, 618, 620, 622, 624, 626, 628, 630, 632, 634, 636, 638, 640, 642, 644, 646, 648, 650, 652, 654, 656, 658, 660, 662, 664, 666, 668, 670, 672, 674, 676, 678, 680, 682, 684, 686, 688, 690, 692, 694, 696, 698, 700, 702, 704, 706, 708, 710, 712, 714, 716, 718, 720, 722, 724, 726, 728, 730, 732, 734, 736, 738, 740, 742, 744, 746, 748, 750, 752, 754, 756, 758, 760, 762, 764, 766, 768, 770, 772, 774, 776, 778, 780, 782, 784, 786, 788, 790, 792, 794, 796, 798, 800, 802, 804, 806, 808, 810, 812, 814, 816, 818, 820, 822, 824, 826, 828, 830, 832, 834, 836, 838, 840, 842, 844, 846, 848, 850, 852, 854, 856, 858, 860, 862, 864, 866, 868, 870, 872, 874, 876, 878, 880, 882, 884, 886, 888, 890, 892, 894, 896, 898, 900, 902, 904, 906, 908, 910, 912, 914, 916, 918, 920, 922, 924, 926, 928, 930, 932, 934, 936, 938, 940, 942, 944, 946, 948, 950, 952, 954, 956, 958, 960, 962, 964, 966, 968, 970, 972, 974, 976, 978, 980, 982, 984, 986, 988, 990, 992, 994, 996, 998, 1000]"
     ]
    }
   ],
   "source": [
    "evens_list = [i for i in range(0,1002,2) ] #Number 1\n",
    "print(evens_list, end='')"
   ]
  },
  {
   "cell_type": "code",
   "execution_count": 16,
   "metadata": {},
   "outputs": [
    {
     "name": "stdout",
     "output_type": "stream",
     "text": [
      "[200, 202, 204, 206, 208, 210, 212, 214, 216, 218, 220, 222, 224, 226, 228, 230, 232, 234, 236, 238, 240, 242, 244, 246, 248, 250, 252, 254, 256, 258, 260, 262, 264, 266, 268, 270, 272, 274, 276, 278, 280, 282, 284, 286, 288, 290, 292, 294, 296, 298, 300, 302, 304, 306, 308, 310, 312, 314, 316, 318, 320, 322, 324, 326, 328, 330, 332, 334, 336, 338, 340, 342, 344, 346, 348, 350, 352, 354, 356, 358, 360, 362, 364, 366, 368, 370, 372, 374, 376, 378, 380, 382, 384, 386, 388, 390, 392, 394, 396, 398, 400, 402, 404, 406, 408, 410, 412, 414, 416, 418, 420, 422, 424, 426, 428, 430, 432, 434, 436, 438, 440, 442, 444, 446, 448, 450, 452, 454, 456, 458, 460, 462, 464, 466, 468, 470, 472, 474, 476, 478, 480, 482, 484, 486, 488, 490, 492, 494, 496, 498, 500, 502, 504, 506, 508, 510, 512, 514, 516, 518, 520, 522, 524, 526, 528, 530, 532, 534, 536, 538, 540, 542, 544, 546, 548, 550, 552, 554, 556, 558, 560, 562, 564, 566, 568, 570, 572, 574, 576, 578, 580, 582, 584, 586, 588, 590, 592, 594, 596, 598, 600, 602, 604, 606, 608, 610, 612, 614, 616, 618, 620, 622, 624, 626, 628, 630, 632, 634, 636, 638, 640, 642, 644, 646, 648, 650, 652, 654, 656, 658, 660, 662, 664, 666, 668, 670, 672, 674, 676, 678, 680, 682, 684, 686, 688, 690, 692, 694, 696, 698, 700, 702, 704, 706, 708, 710, 712, 714, 716, 718, 720, 722, 724, 726, 728, 730, 732, 734, 736, 738, 740, 742, 744, 746, 748, 750, 752, 754, 756, 758, 760, 762, 764, 766, 768, 770, 772, 774, 776, 778, 780, 782, 784, 786, 788, 790, 792, 794, 796, 798, 800, 802, 804, 806, 808, 810, 812, 814, 816, 818, 820, 822, 824, 826, 828, 830, 832, 834, 836, 838, 840, 842, 844, 846, 848, 850, 852, 854, 856, 858, 860, 862, 864, 866, 868, 870, 872, 874, 876, 878, 880, 882, 884, 886, 888, 890, 892, 894, 896, 898, 900, 902, 904, 906, 908, 910, 912, 914, 916, 918, 920, 922, 924, 926, 928, 930, 932, 934, 936, 938, 940, 942, 944, 946, 948, 950, 952, 954, 956, 958, 960, 962, 964, 966, 968, 970, 972, 974, 976, 978, 980, 982, 984, 986, 988, 990, 992, 994, 996, 998]\n"
     ]
    }
   ],
   "source": [
    "# Number 2\n",
    "new_list = [] #list containing index 100 to 500 from evens_list\n",
    "for i in range(100, 500,1):\n",
    "    if evens_list[i] % 2 == 0 :\n",
    "        new_list.append(evens_list[i])\n",
    "print(new_list)"
   ]
  },
  {
   "cell_type": "markdown",
   "metadata": {},
   "source": [
    "### IF Statements\n",
    "\n",
    "If statements are extremely useful if you want to do something only if a condition is met. Here is an example using our Force_list. Say we want to find how many forces in our list exceed a certain value. We can use if statements to determine these values. "
   ]
  },
  {
   "cell_type": "code",
   "execution_count": 20,
   "metadata": {},
   "outputs": [
    {
     "name": "stdout",
     "output_type": "stream",
     "text": [
      "0 index\n",
      "10 Value\n",
      "10 this is above 5\n",
      "1 index\n",
      "20 Value\n",
      "20 this is above 5\n",
      "2 index\n",
      "30 Value\n",
      "30 this is above 5\n",
      "3 index\n",
      "40 Value\n",
      "40 this is above 5\n",
      "4 index\n",
      "50 Value\n",
      "50 this is above 5\n",
      "True False List ['true', 'true', 'true', 'true', 'true']\n"
     ]
    }
   ],
   "source": [
    "\n",
    "tf_list = []  # empty list to store the true and false values\n",
    "for i in range(0,len(Force_list),1):  # for loop starts from 0 and goes to the length of the list\n",
    "    print(i, 'index')\n",
    "    print(Force_list[i],'Value')\n",
    "    if Force_list[i] > 5:     # if the element of force_list is greater than 5 do the following\n",
    "        tf_list.append('true')  # add the string 'true' to the list tf_list\n",
    "        print(Force_list[i], 'this is above 5')\n",
    "    else:   # if the previous statement is not met do the following\n",
    "        tf_list.append('false')  # add the string 'false' to the list tf_list\n",
    "\n",
    "print('True False List',tf_list)"
   ]
  },
  {
   "cell_type": "markdown",
   "metadata": {},
   "source": [
    "### Functions\n",
    "Let's say you want to calculate force for any acceleration value. We can use a python function that can be called and given an input to be calculated. The syntax looks like this:"
   ]
  },
  {
   "cell_type": "code",
   "execution_count": 26,
   "metadata": {},
   "outputs": [],
   "source": [
    "def calc_force(a):   # define function with a being input, a simply marks where variable goes, does not define it\n",
    "    force = m_kg*a  # write mathematical expression\n",
    "    return force  # return mean the value will be the output\n",
    "    "
   ]
  },
  {
   "cell_type": "code",
   "execution_count": 27,
   "metadata": {},
   "outputs": [
    {
     "data": {
      "text/plain": [
       "75"
      ]
     },
     "execution_count": 27,
     "metadata": {},
     "output_type": "execute_result"
    }
   ],
   "source": [
    "# we can now define an accelration and call the function\n",
    "a = 15\n",
    "calc_force(a)"
   ]
  },
  {
   "cell_type": "markdown",
   "metadata": {},
   "source": [
    "What if we wanted to use this function for a list of accel values"
   ]
  },
  {
   "cell_type": "code",
   "execution_count": 28,
   "metadata": {},
   "outputs": [],
   "source": [
    "m_kg = 5 # mass of 5 kg\n",
    "\n",
    "def calc_force(x):  # define the function name to be called\n",
    "    force_list = []  # by defining the empty list inside the function it is cleared evertime its called\n",
    "    for i in range(0,len(x),1): #loop from 0 to the length of the list\n",
    "        force_list.append(x[i]*m_kg) # add the result for each step to the list for force\n",
    "    return force_list # this will return the compelte list after all calculations"
   ]
  },
  {
   "cell_type": "code",
   "execution_count": 29,
   "metadata": {},
   "outputs": [
    {
     "data": {
      "text/plain": [
       "[10, 20, 30, 40, 50]"
      ]
     },
     "execution_count": 29,
     "metadata": {},
     "output_type": "execute_result"
    }
   ],
   "source": [
    "force_list1 = calc_force(accel_list) # pass the function the accel list\n",
    "force_list1"
   ]
  },
  {
   "cell_type": "code",
   "execution_count": 30,
   "metadata": {},
   "outputs": [
    {
     "data": {
      "text/plain": [
       "[20, 40, 60, 80, 100]"
      ]
     },
     "execution_count": 30,
     "metadata": {},
     "output_type": "execute_result"
    }
   ],
   "source": [
    "new_accel_list = [i for i in range(20,120,20)] # made a list with values 20, 40, 60, 80, 100\n",
    "new_accel_list   # range starts from 20 and goes to 120 by steps of 20. "
   ]
  },
  {
   "cell_type": "code",
   "execution_count": 31,
   "metadata": {},
   "outputs": [
    {
     "data": {
      "text/plain": [
       "[100, 200, 300, 400, 500]"
      ]
     },
     "execution_count": 31,
     "metadata": {},
     "output_type": "execute_result"
    }
   ],
   "source": [
    "force_list2 = calc_force(new_accel_list)   # function can be called for a whole new set of accel values\n",
    "force_list2"
   ]
  },
  {
   "cell_type": "markdown",
   "metadata": {},
   "source": [
    "### Make a function for solving the quadratic formula\n",
    "\n",
    "Use python function to solve these formulas."
   ]
  },
  {
   "cell_type": "code",
   "execution_count": 23,
   "metadata": {},
   "outputs": [
    {
     "name": "stdin",
     "output_type": "stream",
     "text": [
      "Enter your A value 12\n",
      "Enter your B value 5\n",
      "Enter your C value 3\n"
     ]
    },
    {
     "name": "stdout",
     "output_type": "stream",
     "text": [
      "Solution : -0.641101056459326\n"
     ]
    }
   ],
   "source": [
    "# quadratic formula calculator\n",
    "\n",
    "import math\n",
    "\n",
    "a = float(input('Enter your A value')) #Accepts user input to put into the defined function\n",
    "b = float(input('Enter your B value'))\n",
    "c = float(input('Enter your C value'))\n",
    "\n",
    "def calc_quad_form(a,b,c):\n",
    "    x =(-b + math.sqrt(b**2 -((4*a*c)/(2*a))))\n",
    "    return x\n",
    "print('Solution :',calc_quad_form(a,b,c))"
   ]
  },
  {
   "cell_type": "markdown",
   "metadata": {},
   "source": [
    "### PRACTICE WRITING FUNCTIONS\n",
    "Can you write a function that determines if the elements of a list of forces is greater that 250? Try to write this function and pass it our previous list of forces."
   ]
  },
  {
   "cell_type": "code",
   "execution_count": null,
   "metadata": {},
   "outputs": [],
   "source": [
    "def is_above_250(x):\n",
    "    tf_list = []\n",
    "    for i in range(len(x)):\n",
    "        if x[i] > 250:\n",
    "            tf_list.append('true')\n",
    "        else:\n",
    "            tf_list.append('false')\n",
    "    return tf_list"
   ]
  },
  {
   "cell_type": "code",
   "execution_count": null,
   "metadata": {},
   "outputs": [],
   "source": [
    "is_above_250(force_list1)"
   ]
  },
  {
   "cell_type": "code",
   "execution_count": null,
   "metadata": {},
   "outputs": [],
   "source": [
    "is_above_250(force_list2)"
   ]
  }
 ],
 "metadata": {
  "kernelspec": {
   "display_name": "Python 3",
   "language": "python",
   "name": "python3"
  },
  "language_info": {
   "codemirror_mode": {
    "name": "ipython",
    "version": 3
   },
   "file_extension": ".py",
   "mimetype": "text/x-python",
   "name": "python",
   "nbconvert_exporter": "python",
   "pygments_lexer": "ipython3",
   "version": "3.5.3"
  }
 },
 "nbformat": 4,
 "nbformat_minor": 2
}
