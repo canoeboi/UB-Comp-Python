{
 "cells": [
  {
   "cell_type": "markdown",
   "metadata": {},
   "source": [
    "### Magic eight ball"
   ]
  },
  {
   "cell_type": "code",
   "execution_count": null,
   "metadata": {},
   "outputs": [],
   "source": [
    "import random"
   ]
  },
  {
   "cell_type": "code",
   "execution_count": null,
   "metadata": {},
   "outputs": [],
   "source": [
    "egt_ball = input('Welcome Traveler, I am the magic eight ball, where all of your questions shall be answered')\n",
    "\n",
    "ans1 = ('I am 100% certain of it')\n",
    "ans2 = ('Of course')\n",
    "ans3 = ('Perhaps')\n",
    "ans4 = ('Probably not')\n",
    "ans5 = ('Oh hell nahh')\n",
    "\n",
    "ball_choice = random.randint(1,6)\n",
    "\n",
    "if ball_choice == 1:\n",
    "    answer = ans1\n",
    "elif ball_choice == 2:\n",
    "    answer = ans2\n",
    "elif ball_choice == 3:\n",
    "    answer = ans3\n",
    "elif ball_choice == 4:\n",
    "    answer = ans4\n",
    "elif ball_choice == 5:\n",
    "    answer = ans5\n",
    "    \n",
    "print(answer)"
   ]
  },
  {
   "cell_type": "code",
   "execution_count": null,
   "metadata": {},
   "outputs": [],
   "source": []
  }
 ],
 "metadata": {
  "kernelspec": {
   "display_name": "Python 3",
   "language": "python",
   "name": "python3"
  },
  "language_info": {
   "codemirror_mode": {
    "name": "ipython",
    "version": 3
   },
   "file_extension": ".py",
   "mimetype": "text/x-python",
   "name": "python",
   "nbconvert_exporter": "python",
   "pygments_lexer": "ipython3",
   "version": "3.5.3"
  }
 },
 "nbformat": 4,
 "nbformat_minor": 2
}
