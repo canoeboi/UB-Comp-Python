{
 "cells": [
  {
   "cell_type": "markdown",
   "metadata": {},
   "source": [
    "### Fun Activity! \n",
    "\n",
    "##### Learning Conditional Statements \n",
    "\n",
    "Conditional statements are used if you want to do a specific thing, only when something else is true or false. For example, you could write a program for a simple thermastat. \n",
    "\n",
    "### Simple Thermostat\n",
    "\n",
    "Lets design a program that takes in temperature values and if the temperature is above a certain value the AC will be on. If the temperature decreases below this value the AC will turn off. Take a look at the program below and think about the different commands and steps to build it."
   ]
  },
  {
   "cell_type": "code",
   "execution_count": null,
   "metadata": {},
   "outputs": [],
   "source": [
    "# import packages - like a tool box with extra goodies\n",
    "from time import sleep  \n",
    "\n",
    "# basic thermastat\n",
    "\n",
    "Temp = 85 # temperature of the croom starts at 85 degrees Farenheit\n",
    "\n",
    "time = 0  # counter for time in seconds\n",
    "\n",
    "for i in range(0,26,1):   #Use loop to increase our time\n",
    "    if Temp > 80:         # if statement checks if the temperature is above 80 degrees\n",
    "        print('AC on')    # AC is now on\n",
    "        print(Temp)       # Print the current temperature\n",
    "        sleep(1)          # Literally python waits indicated seconds(1)\n",
    "        Temp = Temp - 1   # Decreases Temperature by 1 degree\n",
    "        time = i          # every step in the for loop is a second in real time\n",
    "        print(time,'sec') #Print time value\n",
    "    \n",
    "    else:               # else statement means if the if statement is not satisfied, execute the following\n",
    "        print('AC off') # Turned off the AC\n",
    "        print(Temp)     # Check our current temperature\n",
    "        sleep(1)        # Literally waits 1 second\n",
    "        Temp = Temp + 1 # Increase temperature by 1 degree\n",
    "        time = i        # Every step i nthe for loop is 1 second in real time\n",
    "        print(time,'sec') #Time value\n",
    "        \n",
    "    if time == 25: # Checks if we reached the end of the for loop\n",
    "        break      # Ends a for loop at this point in the loop"
   ]
  },
  {
   "cell_type": "markdown",
   "metadata": {},
   "source": [
    "### Creating a guessing game\n",
    "lets write a program that creates a random number from 0 to 100, and then asks us to guess. The program will then check you guess and tell you guess higher or lower. "
   ]
  },
  {
   "cell_type": "code",
   "execution_count": null,
   "metadata": {},
   "outputs": [],
   "source": [
    "import random # must have the package random to use randint command\n",
    "n = random.randint(1, 100) # creates a random number 0-100\n",
    "while True:    #While loops run lines of code while a condition is satisfied\n",
    "    ans = int(input('Guess an integer between 1-100: '))    # input command asks user to guess\n",
    "    if ans == n:        #checking if user input equals the random number\n",
    "        print('Congratulations, you won absolutely nothing!') # if correct print this message\n",
    "        n = random.randint(1,100) #generate new random number\n",
    "           # now restart loop from the top\n",
    "           # single equal sign defines object as a value\n",
    "           # double equal sign does not change object value\n",
    "            \n",
    "    elif ans > n: #use elif when initial if statement is not true          \n",
    "        print('Lower.') # if the elif statement is true, print this message\n",
    "        # now restart loop from the top\n",
    "        \n",
    "    elif ans == 0:        # checks if the above conditions are unsatisfied and checks if\n",
    "        print('cya loser!') # the guess was 0\n",
    "        break # Inputting 0 breaks/ends loop\n",
    "    \n",
    "    else: # not equal to or greater than random number, so must be less\n",
    "        print('Higher.') #Print message\n",
    "        # now restart loop from top"
   ]
  },
  {
   "cell_type": "code",
   "execution_count": null,
   "metadata": {},
   "outputs": [],
   "source": []
  }
 ],
 "metadata": {
  "kernelspec": {
   "display_name": "Python 3",
   "language": "python",
   "name": "python3"
  },
  "language_info": {
   "codemirror_mode": {
    "name": "ipython",
    "version": 3
   },
   "file_extension": ".py",
   "mimetype": "text/x-python",
   "name": "python",
   "nbconvert_exporter": "python",
   "pygments_lexer": "ipython3",
   "version": "3.5.3"
  }
 },
 "nbformat": 4,
 "nbformat_minor": 2
}
