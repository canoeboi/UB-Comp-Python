{
 "cells": [
  {
   "cell_type": "markdown",
   "metadata": {},
   "source": [
    "# INTRO TO PYTHON NOTEBOOKS\n",
    "\n",
    "### Markdown vs Code\n",
    "In a mark down cell we can write text in paragraph format like this. Throughout the class we will emphasize using markdown cells to describe all the code we write. This becomes very helpful when someone else tries to use your work or you look back at old notebooks.\n",
    "\n",
    "# Font size \n",
    "## For headers\n",
    "### Gets smaller\n",
    "#### with more\n",
    "##### hashtags\n",
    "\n",
    "For **Bold** text\n",
    "\n",
    "For *Italic* text\n",
    "\n",
    "If you're familiar with LaTex format it also recognizes the syntax:\n",
    "\n",
    "$$ \\psi = [A\\sin(kx) + B\\cos(kx)]e^{-i\\omega t}  $$\n",
    "\n",
    "Great for writing equations.\n",
    "\n",
    "### Code Cells\n",
    "Code cells are used for actual computing. Practice doing simple calculator like functions."
   ]
  },
  {
   "cell_type": "code",
   "execution_count": 2,
   "metadata": {},
   "outputs": [
    {
     "data": {
      "text/plain": [
       "25"
      ]
     },
     "execution_count": 2,
     "metadata": {},
     "output_type": "execute_result"
    }
   ],
   "source": [
    "# hashtags in code cells make comments. whatever follows the hashtag is simply in the cell\n",
    "# and is not ran as part of the code. This is great for small comments about what a line\n",
    "# of code does and we will practice commenting all of our cells\n",
    "\n",
    "# calculator like functions\n",
    "5*5"
   ]
  },
  {
   "cell_type": "markdown",
   "metadata": {},
   "source": [
    "### Printing Outputs"
   ]
  },
  {
   "cell_type": "code",
   "execution_count": 3,
   "metadata": {},
   "outputs": [
    {
     "data": {
      "text/plain": [
       "10.0"
      ]
     },
     "execution_count": 3,
     "metadata": {},
     "output_type": "execute_result"
    }
   ],
   "source": [
    "# python prints the last line if there is an output\n",
    "5*5\n",
    "12/3\n",
    "100/10"
   ]
  },
  {
   "cell_type": "code",
   "execution_count": 4,
   "metadata": {},
   "outputs": [
    {
     "name": "stdout",
     "output_type": "stream",
     "text": [
      "25\n",
      "4.0\n"
     ]
    },
    {
     "data": {
      "text/plain": [
       "10.0"
      ]
     },
     "execution_count": 4,
     "metadata": {},
     "output_type": "execute_result"
    }
   ],
   "source": [
    "# use print statements otherwise\n",
    "print(5*5)\n",
    "print(12/3)\n",
    "100/10"
   ]
  },
  {
   "cell_type": "code",
   "execution_count": 5,
   "metadata": {},
   "outputs": [
    {
     "name": "stdout",
     "output_type": "stream",
     "text": [
      "Hello world\n",
      "Five times five equals = 25\n"
     ]
    }
   ],
   "source": [
    "# printing a text we will now call a string\n",
    "print('Hello world')   # the ' ' defines a string and is highlighted in red\n",
    "print('Five times five equals =',5*5)  # combine strings with mathematical output"
   ]
  },
  {
   "cell_type": "markdown",
   "metadata": {},
   "source": [
    "### Defining variables\n",
    "If you wanted to save a variable with a given value you can do so in python like this:"
   ]
  },
  {
   "cell_type": "code",
   "execution_count": 6,
   "metadata": {},
   "outputs": [
    {
     "name": "stdout",
     "output_type": "stream",
     "text": [
      "5 5 25\n"
     ]
    }
   ],
   "source": [
    "# define variables\n",
    "x = 5  \n",
    "y = 5\n",
    "z = x * y # you can define another variable as a function of other variables\n",
    "\n",
    "print(x,y,z)  # take a look at the values"
   ]
  },
  {
   "cell_type": "code",
   "execution_count": 7,
   "metadata": {},
   "outputs": [
    {
     "ename": "NameError",
     "evalue": "name 'b' is not defined",
     "output_type": "error",
     "traceback": [
      "\u001b[1;31m---------------------------------------------------------------------------\u001b[0m",
      "\u001b[1;31mNameError\u001b[0m                                 Traceback (most recent call last)",
      "\u001b[1;32m<ipython-input-7-ae0eace739b6>\u001b[0m in \u001b[0;36m<module>\u001b[1;34m()\u001b[0m\n\u001b[0;32m      1\u001b[0m \u001b[1;31m# cannot use a variable before defining it\u001b[0m\u001b[1;33m\u001b[0m\u001b[1;33m\u001b[0m\u001b[0m\n\u001b[1;32m----> 2\u001b[1;33m \u001b[0ma\u001b[0m \u001b[1;33m=\u001b[0m \u001b[0mb\u001b[0m\u001b[1;33m*\u001b[0m\u001b[0mc\u001b[0m   \u001b[1;31m# by switching the order\u001b[0m\u001b[1;33m\u001b[0m\u001b[0m\n\u001b[0m\u001b[0;32m      3\u001b[0m \u001b[0mb\u001b[0m \u001b[1;33m=\u001b[0m \u001b[1;36m1\u001b[0m     \u001b[1;31m# we cause the error\u001b[0m\u001b[1;33m\u001b[0m\u001b[0m\n\u001b[0;32m      4\u001b[0m \u001b[0mc\u001b[0m \u001b[1;33m=\u001b[0m \u001b[1;36m2\u001b[0m\u001b[1;33m\u001b[0m\u001b[0m\n",
      "\u001b[1;31mNameError\u001b[0m: name 'b' is not defined"
     ]
    }
   ],
   "source": [
    "# cannot use a variable before defining it\n",
    "a = b*c   # by switching the order \n",
    "b = 1     # we cause the error\n",
    "c = 2"
   ]
  },
  {
   "cell_type": "code",
   "execution_count": 8,
   "metadata": {},
   "outputs": [
    {
     "name": "stdout",
     "output_type": "stream",
     "text": [
      "50\n"
     ]
    }
   ],
   "source": [
    "# variables can be used across all cells in the notebook\n",
    "a = 2*z\n",
    "print(a)"
   ]
  },
  {
   "cell_type": "code",
   "execution_count": 9,
   "metadata": {},
   "outputs": [
    {
     "data": {
      "text/plain": [
       "24"
      ]
     },
     "execution_count": 9,
     "metadata": {},
     "output_type": "execute_result"
    }
   ],
   "source": [
    "# you can overwrite the values of a variable\n",
    "z = 12\n",
    "a = 2*z\n",
    "a  # go back and rerun the previous cell"
   ]
  },
  {
   "cell_type": "code",
   "execution_count": 10,
   "metadata": {},
   "outputs": [
    {
     "name": "stdout",
     "output_type": "stream",
     "text": [
      "x 5\n",
      "current 12\n",
      "distance in km 1\n",
      "k values 1 2 3\n"
     ]
    }
   ],
   "source": [
    "# valid and invalid variable names\n",
    "#valid\n",
    "x = 5  # sometimes just a letter is enough\n",
    "current = 12  # might want to use a whole word \n",
    "dist_km = 1  # this has a description and units\n",
    "k1, k2, k3 = 1 , 2, 3\n",
    "\n",
    "print('x',x)\n",
    "print('current', current)\n",
    "print('distance in km', dist_km)\n",
    "print('k values',k1,k2,k3)\n"
   ]
  },
  {
   "cell_type": "code",
   "execution_count": 11,
   "metadata": {},
   "outputs": [
    {
     "ename": "SyntaxError",
     "evalue": "invalid syntax (<ipython-input-11-a9a3dfe93db0>, line 3)",
     "output_type": "error",
     "traceback": [
      "\u001b[1;36m  File \u001b[1;32m\"<ipython-input-11-a9a3dfe93db0>\"\u001b[1;36m, line \u001b[1;32m3\u001b[0m\n\u001b[1;33m    2r = 4\u001b[0m\n\u001b[1;37m     ^\u001b[0m\n\u001b[1;31mSyntaxError\u001b[0m\u001b[1;31m:\u001b[0m invalid syntax\n"
     ]
    }
   ],
   "source": [
    "#invalid\n",
    "\n",
    "2r = 4"
   ]
  },
  {
   "cell_type": "code",
   "execution_count": 12,
   "metadata": {},
   "outputs": [
    {
     "ename": "SyntaxError",
     "evalue": "can't assign to literal (<ipython-input-12-b39db39f6efc>, line 1)",
     "output_type": "error",
     "traceback": [
      "\u001b[1;36m  File \u001b[1;32m\"<ipython-input-12-b39db39f6efc>\"\u001b[1;36m, line \u001b[1;32m1\u001b[0m\n\u001b[1;33m    2 = 3\u001b[0m\n\u001b[1;37m         ^\u001b[0m\n\u001b[1;31mSyntaxError\u001b[0m\u001b[1;31m:\u001b[0m can't assign to literal\n"
     ]
    }
   ],
   "source": [
    "2 = 3"
   ]
  },
  {
   "cell_type": "markdown",
   "metadata": {},
   "source": [
    "### Python Object Types\n",
    "Python uses whats known as object-oriented programming. An object in other words is what we call a variable. You could define an object as just an integer, a float, a string, a list, etc and each object looks and acts different with python functions. Lets take a look:"
   ]
  },
  {
   "cell_type": "code",
   "execution_count": 13,
   "metadata": {},
   "outputs": [
    {
     "data": {
      "text/plain": [
       "int"
      ]
     },
     "execution_count": 13,
     "metadata": {},
     "output_type": "execute_result"
    }
   ],
   "source": [
    "# define a variable \n",
    "n = 10\n",
    "type(n)  # how to find the type of an object"
   ]
  },
  {
   "cell_type": "code",
   "execution_count": 14,
   "metadata": {},
   "outputs": [
    {
     "data": {
      "text/plain": [
       "int"
      ]
     },
     "execution_count": 14,
     "metadata": {},
     "output_type": "execute_result"
    }
   ],
   "source": [
    "# n is an integer\n",
    "# try again but slightly different\n",
    "m = 10.0\n",
    "type(n)"
   ]
  },
  {
   "cell_type": "code",
   "execution_count": 15,
   "metadata": {},
   "outputs": [
    {
     "data": {
      "text/plain": [
       "int"
      ]
     },
     "execution_count": 15,
     "metadata": {},
     "output_type": "execute_result"
    }
   ],
   "source": [
    "# floats describe numbers that are decimals not just integer whole numbers\n",
    "# what about strings\n",
    "h = 'words'\n",
    "type(n)"
   ]
  },
  {
   "cell_type": "code",
   "execution_count": 16,
   "metadata": {},
   "outputs": [
    {
     "data": {
      "text/plain": [
       "list"
      ]
     },
     "execution_count": 16,
     "metadata": {},
     "output_type": "execute_result"
    }
   ],
   "source": [
    "# list syntax. takes ints, floats, and strs\n",
    "a_list = [n, m, h]\n",
    "type(a_list)"
   ]
  },
  {
   "cell_type": "code",
   "execution_count": 17,
   "metadata": {},
   "outputs": [
    {
     "name": "stdout",
     "output_type": "stream",
     "text": [
      "20\n"
     ]
    },
    {
     "data": {
      "text/plain": [
       "int"
      ]
     },
     "execution_count": 17,
     "metadata": {},
     "output_type": "execute_result"
    }
   ],
   "source": [
    "# how do different types add\n",
    "print(n+n)\n",
    "type(n+n)  # int + int stays as an int"
   ]
  },
  {
   "cell_type": "code",
   "execution_count": 18,
   "metadata": {},
   "outputs": [
    {
     "name": "stdout",
     "output_type": "stream",
     "text": [
      "20.0\n"
     ]
    },
    {
     "data": {
      "text/plain": [
       "float"
      ]
     },
     "execution_count": 18,
     "metadata": {},
     "output_type": "execute_result"
    }
   ],
   "source": [
    "print(n+m)\n",
    "type(n+m)  # int + float becomes a float"
   ]
  },
  {
   "cell_type": "code",
   "execution_count": 19,
   "metadata": {},
   "outputs": [
    {
     "ename": "TypeError",
     "evalue": "can only concatenate list (not \"int\") to list",
     "output_type": "error",
     "traceback": [
      "\u001b[1;31m---------------------------------------------------------------------------\u001b[0m",
      "\u001b[1;31mTypeError\u001b[0m                                 Traceback (most recent call last)",
      "\u001b[1;32m<ipython-input-19-3c578553ae73>\u001b[0m in \u001b[0;36m<module>\u001b[1;34m()\u001b[0m\n\u001b[1;32m----> 1\u001b[1;33m \u001b[0mprint\u001b[0m\u001b[1;33m(\u001b[0m\u001b[0ma_list\u001b[0m\u001b[1;33m+\u001b[0m\u001b[0mn\u001b[0m\u001b[1;33m)\u001b[0m  \u001b[1;31m# cannot add lists and ints or floats\u001b[0m\u001b[1;33m\u001b[0m\u001b[0m\n\u001b[0m",
      "\u001b[1;31mTypeError\u001b[0m: can only concatenate list (not \"int\") to list"
     ]
    }
   ],
   "source": [
    "print(a_list+n)  # cannot add lists and ints or floats"
   ]
  },
  {
   "cell_type": "code",
   "execution_count": 20,
   "metadata": {},
   "outputs": [
    {
     "data": {
      "text/plain": [
       "[10, 10.0, 'words', 10, 10.0, 'words']"
      ]
     },
     "execution_count": 20,
     "metadata": {},
     "output_type": "execute_result"
    }
   ],
   "source": [
    "a_list+a_list  # adding lists just creates bigger list"
   ]
  },
  {
   "cell_type": "code",
   "execution_count": 21,
   "metadata": {},
   "outputs": [
    {
     "ename": "TypeError",
     "evalue": "must be str, not int",
     "output_type": "error",
     "traceback": [
      "\u001b[1;31m---------------------------------------------------------------------------\u001b[0m",
      "\u001b[1;31mTypeError\u001b[0m                                 Traceback (most recent call last)",
      "\u001b[1;32m<ipython-input-21-47cb022850c7>\u001b[0m in \u001b[0;36m<module>\u001b[1;34m()\u001b[0m\n\u001b[1;32m----> 1\u001b[1;33m \u001b[0mh\u001b[0m \u001b[1;33m+\u001b[0m \u001b[0mn\u001b[0m  \u001b[1;31m# cannot add str with int or float\u001b[0m\u001b[1;33m\u001b[0m\u001b[0m\n\u001b[0m",
      "\u001b[1;31mTypeError\u001b[0m: must be str, not int"
     ]
    }
   ],
   "source": [
    "h + n  # cannot add str with int or float"
   ]
  },
  {
   "cell_type": "code",
   "execution_count": 22,
   "metadata": {},
   "outputs": [
    {
     "data": {
      "text/plain": [
       "'wordswords'"
      ]
     },
     "execution_count": 22,
     "metadata": {},
     "output_type": "execute_result"
    }
   ],
   "source": [
    "h + h  # adding strings is done tail to tip with no space"
   ]
  },
  {
   "cell_type": "markdown",
   "metadata": {},
   "source": [
    "### Lists and For Loops\n",
    "Variables can be defined for different objects. For example we could save a list of values like this:"
   ]
  },
  {
   "cell_type": "code",
   "execution_count": 23,
   "metadata": {},
   "outputs": [
    {
     "data": {
      "text/plain": [
       "[0, 1, 2, 3, 4, 5]"
      ]
     },
     "execution_count": 23,
     "metadata": {},
     "output_type": "execute_result"
    }
   ],
   "source": [
    "my_list = [0,1,2,3,4,5]  # list syntax\n",
    "my_list"
   ]
  },
  {
   "cell_type": "code",
   "execution_count": 24,
   "metadata": {},
   "outputs": [
    {
     "name": "stdout",
     "output_type": "stream",
     "text": [
      "0\n",
      "[0, 1, 2, 3, 4, 5]\n",
      "[2, 3, 4]\n",
      "5\n",
      "[5, 4, 3, 2, 1, 0]\n"
     ]
    }
   ],
   "source": [
    "# accessing elements of a list\n",
    "print(my_list[0])  # first elemement of the list\n",
    "print(my_list[:])  # print entire list\n",
    "print(my_list[2:5]) # print the third, fourth, and fifth elements of list\n",
    "print(my_list[-1])  # print last element of list\n",
    "print(my_list[::-1])  # reverse the list"
   ]
  },
  {
   "cell_type": "code",
   "execution_count": 25,
   "metadata": {},
   "outputs": [
    {
     "data": {
      "text/plain": [
       "[0, 1, 2, 3, 4, 5, 6, 7, 8, 9]"
      ]
     },
     "execution_count": 25,
     "metadata": {},
     "output_type": "execute_result"
    }
   ],
   "source": [
    "# lists can be created using a for loop\n",
    "new_list = [i for i in range(10)]  # the for loop adds each number from 0-9 to the list\n",
    "new_list"
   ]
  },
  {
   "cell_type": "code",
   "execution_count": 26,
   "metadata": {},
   "outputs": [
    {
     "data": {
      "text/plain": [
       "[0, 1, 2, 3, 4, 5, 6, 7, 8, 9]"
      ]
     },
     "execution_count": 26,
     "metadata": {},
     "output_type": "execute_result"
    }
   ],
   "source": [
    "# using for loops and append command\n",
    "cool_list = []  # create an empty list\n",
    "for i in range(10):  # for loop over values 0-9\n",
    "    cool_list.append(i)  # add each value to the list from 0-9\n",
    "cool_list"
   ]
  },
  {
   "cell_type": "code",
   "execution_count": 27,
   "metadata": {},
   "outputs": [
    {
     "data": {
      "text/plain": [
       "[0, 1, 4, 9, 16, 25, 36, 49, 64, 81]"
      ]
     },
     "execution_count": 27,
     "metadata": {},
     "output_type": "execute_result"
    }
   ],
   "source": [
    "# using a list to make new list and using len command\n",
    "super_cool_list = []   \n",
    "for i in range(len(cool_list)):   # or loop goes from 0 to the length of cool_list\n",
    "    super_cool_list.append(cool_list[i]**2)  # for each item in cool_list we square and append to super_cool_list\n",
    "super_cool_list"
   ]
  },
  {
   "cell_type": "markdown",
   "metadata": {},
   "source": [
    "### PHYSICS EXAMPLE USING LISTS\n",
    "We all know the famous equation from Newton's Laws:\n",
    "\n",
    "$$ F= m a $$\n",
    "\n",
    "F : Force\n",
    "\n",
    "m : mass \n",
    "\n",
    "a : acceleration\n",
    "\n",
    "If a ball has a mass of 5 kg and I give you a list of accelerations [2,4,6,8,10] m/s^2. Can you use lists to find the corresponding force for each acceleration?"
   ]
  },
  {
   "cell_type": "code",
   "execution_count": 28,
   "metadata": {},
   "outputs": [
    {
     "data": {
      "text/plain": [
       "[10, 20, 30, 40, 50]"
      ]
     },
     "execution_count": 28,
     "metadata": {},
     "output_type": "execute_result"
    }
   ],
   "source": [
    "# define each list and mass variable\n",
    "accel_list = [2,4,6,8,10]\n",
    "Force_list = []\n",
    "m_kg = 5\n",
    "\n",
    "\n",
    "# write loop to calculate forces\n",
    "for i in range(len(accel_list)):\n",
    "    Force_list.append(accel_list[i]*m_kg)\n",
    "\n",
    "# print \n",
    "Force_list"
   ]
  },
  {
   "cell_type": "markdown",
   "metadata": {},
   "source": [
    "### IF Statements\n",
    "\n",
    "If statements are extremely useful if you want to do something only if a condition is met. Here is an example using our Force_list. Say we want to find how many forces in our list exceed a certain value. We can use if statements to determine these values. "
   ]
  },
  {
   "cell_type": "code",
   "execution_count": 29,
   "metadata": {},
   "outputs": [
    {
     "data": {
      "text/plain": [
       "['true', 'true', 'true', 'true', 'true']"
      ]
     },
     "execution_count": 29,
     "metadata": {},
     "output_type": "execute_result"
    }
   ],
   "source": [
    "tf_list = []  \n",
    "for i in range(len(Force_list)):  \n",
    "    if Force_list[i] > 5:     # if the element of force_list is greater than 5 do the following\n",
    "        tf_list.append('true')  # add the string 'true' to the list tf_list\n",
    "    \n",
    "    else:   # if the previous statement is not met do the following\n",
    "        tf_list.append('false')  # add the string 'false' to the list tf_list\n",
    "        \n",
    "tf_list"
   ]
  },
  {
   "cell_type": "markdown",
   "metadata": {},
   "source": [
    "### Functions\n",
    "Let's say you want to calculate force for any acceleration value. We can use a python function that can be called and given an input to be calculated. The syntax looks like this:"
   ]
  },
  {
   "cell_type": "code",
   "execution_count": 30,
   "metadata": {},
   "outputs": [],
   "source": [
    "def calc_force(a):   # define function with a being input\n",
    "    force = m_kg*a  # write mathematical expression\n",
    "    return force  # return mean the value will be the output\n",
    "    "
   ]
  },
  {
   "cell_type": "code",
   "execution_count": 31,
   "metadata": {},
   "outputs": [
    {
     "data": {
      "text/plain": [
       "75"
      ]
     },
     "execution_count": 31,
     "metadata": {},
     "output_type": "execute_result"
    }
   ],
   "source": [
    "# we can now define an accelration and call the function\n",
    "a = 15\n",
    "calc_force(a)"
   ]
  },
  {
   "cell_type": "markdown",
   "metadata": {},
   "source": [
    "What if we wanted to use this function for a list of accel values"
   ]
  },
  {
   "cell_type": "code",
   "execution_count": 74,
   "metadata": {},
   "outputs": [],
   "source": [
    "def calc_force(a):  # define the function name to be called\n",
    "    force_list = []  # by defining the empty list inside the function it is cleared evertime its called\n",
    "    for i in range(len(a)):\n",
    "        force_list.append(a[i]*m_kg)\n",
    "    return force_list"
   ]
  },
  {
   "cell_type": "code",
   "execution_count": 79,
   "metadata": {},
   "outputs": [
    {
     "data": {
      "text/plain": [
       "[10, 20, 30, 40, 50]"
      ]
     },
     "execution_count": 79,
     "metadata": {},
     "output_type": "execute_result"
    }
   ],
   "source": [
    "force_list1 = calc_force(accel_list)\n",
    "force_list1"
   ]
  },
  {
   "cell_type": "code",
   "execution_count": 76,
   "metadata": {},
   "outputs": [
    {
     "data": {
      "text/plain": [
       "[20, 40, 60, 80, 100]"
      ]
     },
     "execution_count": 76,
     "metadata": {},
     "output_type": "execute_result"
    }
   ],
   "source": [
    "new_accel_list = [i for i in range(20,120,20)] # made a list with values 20, 40, 60, 80, 100\n",
    "new_accel_list   # range starts from 20 and goes to 120 by steps of 20. "
   ]
  },
  {
   "cell_type": "code",
   "execution_count": 80,
   "metadata": {},
   "outputs": [
    {
     "data": {
      "text/plain": [
       "[100, 200, 300, 400, 500]"
      ]
     },
     "execution_count": 80,
     "metadata": {},
     "output_type": "execute_result"
    }
   ],
   "source": [
    "force_list2 = calc_force(new_accel_list)   # function can be called for a whole new set of accel values\n",
    "force_list2"
   ]
  },
  {
   "cell_type": "markdown",
   "metadata": {},
   "source": [
    "### PRACTICE WRITING FUNCTIONS\n",
    "Can you write a function that determines if the elements of a list of forces is greater that 250? Try to write this function and pass it our previous list of forces."
   ]
  },
  {
   "cell_type": "code",
   "execution_count": 82,
   "metadata": {},
   "outputs": [],
   "source": [
    "def is_above_250(x):\n",
    "    tf_list = []\n",
    "    for i in range(len(x)):\n",
    "        if x[i] > 250:\n",
    "            tf_list.append('true')\n",
    "        else:\n",
    "            tf_list.append('false')\n",
    "    return tf_list"
   ]
  },
  {
   "cell_type": "code",
   "execution_count": 83,
   "metadata": {},
   "outputs": [
    {
     "data": {
      "text/plain": [
       "['false', 'false', 'false', 'false', 'false']"
      ]
     },
     "execution_count": 83,
     "metadata": {},
     "output_type": "execute_result"
    }
   ],
   "source": [
    "is_above_250(force_list1)"
   ]
  },
  {
   "cell_type": "code",
   "execution_count": 84,
   "metadata": {},
   "outputs": [
    {
     "data": {
      "text/plain": [
       "['false', 'false', 'true', 'true', 'true']"
      ]
     },
     "execution_count": 84,
     "metadata": {},
     "output_type": "execute_result"
    }
   ],
   "source": [
    "is_above_250(force_list2)"
   ]
  },
  {
   "cell_type": "code",
   "execution_count": null,
   "metadata": {},
   "outputs": [],
   "source": []
  }
 ],
 "metadata": {
  "kernelspec": {
   "display_name": "Python 3",
   "language": "python",
   "name": "python3"
  },
  "language_info": {
   "codemirror_mode": {
    "name": "ipython",
    "version": 3
   },
   "file_extension": ".py",
   "mimetype": "text/x-python",
   "name": "python",
   "nbconvert_exporter": "python",
   "pygments_lexer": "ipython3",
   "version": "3.5.3"
  }
 },
 "nbformat": 4,
 "nbformat_minor": 2
}
