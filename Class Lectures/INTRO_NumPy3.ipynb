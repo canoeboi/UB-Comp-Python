{
 "cells": [
  {
   "cell_type": "code",
   "execution_count": 2,
   "metadata": {},
   "outputs": [],
   "source": [
    "import numpy as np  # yup thats it"
   ]
  },
  {
   "cell_type": "markdown",
   "metadata": {},
   "source": [
    "### NumPy Mathematics\n",
    "Another important aspect of using the NumPy package is its extensive amount of mathematical functions. This could be exponentials, trigonometric functions, square root, etc...\n",
    "\n",
    "I've included a bunch of examples of using these commands but I strongly recommend visiting the NumPy documentation to see the complete list of commands."
   ]
  },
  {
   "cell_type": "code",
   "execution_count": 3,
   "metadata": {},
   "outputs": [
    {
     "name": "stdout",
     "output_type": "stream",
     "text": [
      "3.141592653589793\n",
      "2.718281828459045\n"
     ]
    },
    {
     "data": {
      "text/plain": [
       "inf"
      ]
     },
     "execution_count": 3,
     "metadata": {},
     "output_type": "execute_result"
    }
   ],
   "source": [
    "# mathematical constants\n",
    "print(np.pi)  \n",
    "print(np.e)\n",
    "np.inf #infinity"
   ]
  },
  {
   "cell_type": "code",
   "execution_count": 4,
   "metadata": {},
   "outputs": [
    {
     "name": "stdout",
     "output_type": "stream",
     "text": [
      "1.0\n",
      "-1.0\n"
     ]
    },
    {
     "data": {
      "text/plain": [
       "-1.2246467991473532e-16"
      ]
     },
     "execution_count": 4,
     "metadata": {},
     "output_type": "execute_result"
    }
   ],
   "source": [
    "# trig functions\n",
    "print(np.sin(np.pi/2))  # takes radian values\n",
    "print(np.cos(np.pi))\n",
    "np.tan(np.pi)  # approximations"
   ]
  },
  {
   "cell_type": "code",
   "execution_count": 5,
   "metadata": {},
   "outputs": [
    {
     "data": {
      "text/plain": [
       "180.0"
      ]
     },
     "execution_count": 5,
     "metadata": {},
     "output_type": "execute_result"
    }
   ],
   "source": [
    "# radians to degress\n",
    "np.degrees(np.pi)"
   ]
  },
  {
   "cell_type": "code",
   "execution_count": 6,
   "metadata": {},
   "outputs": [
    {
     "data": {
      "text/plain": [
       "3.1415926535897931"
      ]
     },
     "execution_count": 6,
     "metadata": {},
     "output_type": "execute_result"
    }
   ],
   "source": [
    "# degrees to radians\n",
    "np.radians(180.0)"
   ]
  },
  {
   "cell_type": "code",
   "execution_count": 8,
   "metadata": {},
   "outputs": [
    {
     "name": "stdout",
     "output_type": "stream",
     "text": [
      "2.718281828459045\n"
     ]
    },
    {
     "data": {
      "text/plain": [
       "20.085536923187668"
      ]
     },
     "execution_count": 8,
     "metadata": {},
     "output_type": "execute_result"
    }
   ],
   "source": [
    "print(np.e)  # is the value of e\n",
    "\n",
    "# exponential functions\n",
    "np.exp(3)"
   ]
  },
  {
   "cell_type": "code",
   "execution_count": 9,
   "metadata": {},
   "outputs": [
    {
     "data": {
      "text/plain": [
       "array([[-0.33333333,  0.66666667],\n",
       "       [ 0.66666667, -0.33333333]])"
      ]
     },
     "execution_count": 9,
     "metadata": {},
     "output_type": "execute_result"
    }
   ],
   "source": [
    "# linear algebra \n",
    "a = np.array([[1,2],[2,1]]) # define 2x2 matrix\n",
    "inv_a = np.linalg.inv(a)  # inverse, linalg stands for linear algebra \n",
    "inv_a"
   ]
  },
  {
   "cell_type": "code",
   "execution_count": null,
   "metadata": {},
   "outputs": [],
   "source": [
    "# dot product of 2 matrices\n",
    "np.dot(a, inv_a)"
   ]
  },
  {
   "cell_type": "code",
   "execution_count": 10,
   "metadata": {},
   "outputs": [
    {
     "name": "stdout",
     "output_type": "stream",
     "text": [
      "a\n",
      "[[1 2]\n",
      " [3 4]]\n",
      "transpose of a\n",
      "[[1 3]\n",
      " [2 4]]\n"
     ]
    }
   ],
   "source": [
    "# transpose of a matrix\n",
    "a_matrix = np.array([[1,2],[3,4]])\n",
    "trans_a = a_matrix.T # T stands for transpose\n",
    "print('a')\n",
    "print(a_matrix)\n",
    "print('transpose of a')\n",
    "print(trans_a)"
   ]
  },
  {
   "cell_type": "code",
   "execution_count": 11,
   "metadata": {},
   "outputs": [
    {
     "data": {
      "text/plain": [
       "-2.0000000000000004"
      ]
     },
     "execution_count": 11,
     "metadata": {},
     "output_type": "execute_result"
    }
   ],
   "source": [
    "# determinant of a matrix\n",
    "a_det = np.linalg.det(a_matrix)\n",
    "a_det"
   ]
  },
  {
   "cell_type": "code",
   "execution_count": 14,
   "metadata": {},
   "outputs": [
    {
     "data": {
      "text/plain": [
       "(array([-0.37228132,  5.37228132]), array([[-0.82456484, -0.41597356],\n",
       "        [ 0.56576746, -0.90937671]]))"
      ]
     },
     "execution_count": 14,
     "metadata": {},
     "output_type": "execute_result"
    }
   ],
   "source": [
    "# find the eigenvalues and eigenvectors of a matrix\n",
    "a_eig = np.linalg.eig(a_matrix)\n",
    "a_eig  # outputs in form array([eigenvalues]), array([eigenvectors])"
   ]
  },
  {
   "cell_type": "code",
   "execution_count": 15,
   "metadata": {},
   "outputs": [
    {
     "data": {
      "text/plain": [
       "-1.9999999999999998"
      ]
     },
     "execution_count": 15,
     "metadata": {},
     "output_type": "execute_result"
    }
   ],
   "source": [
    "# just like np.sum you can mulitply across an array\n",
    "# determinant = product of eigenvalues\n",
    "det = np.prod(a_eig[0])  # the first element of a_eig are the eigvalues\n",
    "det "
   ]
  },
  {
   "cell_type": "code",
   "execution_count": 16,
   "metadata": {},
   "outputs": [
    {
     "data": {
      "text/plain": [
       "False"
      ]
     },
     "execution_count": 16,
     "metadata": {},
     "output_type": "execute_result"
    }
   ],
   "source": [
    "# to show how python approximates\n",
    "det == a_det"
   ]
  },
  {
   "cell_type": "code",
   "execution_count": 17,
   "metadata": {},
   "outputs": [
    {
     "data": {
      "text/plain": [
       "True"
      ]
     },
     "execution_count": 17,
     "metadata": {},
     "output_type": "execute_result"
    }
   ],
   "source": [
    "round(det) == round(a_det)"
   ]
  },
  {
   "cell_type": "markdown",
   "metadata": {},
   "source": [
    "### Saving and Reading Data Files\n",
    "This will be brief but I should mention these functions as a part of the NumPy package. We will revisit saving and reading data files later in the course."
   ]
  },
  {
   "cell_type": "code",
   "execution_count": 18,
   "metadata": {},
   "outputs": [
    {
     "data": {
      "text/plain": [
       "array([[0, 2, 0, 1, 6, 0, 1, 9, 8, 3],\n",
       "       [2, 2, 3, 0, 9, 5, 1, 2, 8, 6],\n",
       "       [8, 7, 3, 2, 1, 6, 0, 6, 3, 8],\n",
       "       [9, 2, 5, 6, 5, 2, 0, 0, 5, 5],\n",
       "       [2, 0, 8, 9, 6, 8, 3, 5, 7, 7],\n",
       "       [2, 9, 7, 8, 2, 7, 4, 8, 4, 8],\n",
       "       [0, 7, 2, 6, 5, 2, 4, 0, 2, 2],\n",
       "       [3, 7, 0, 6, 6, 5, 6, 6, 7, 1],\n",
       "       [7, 2, 6, 9, 9, 8, 7, 3, 7, 6],\n",
       "       [6, 6, 0, 4, 2, 5, 3, 8, 4, 9]])"
      ]
     },
     "execution_count": 18,
     "metadata": {},
     "output_type": "execute_result"
    }
   ],
   "source": [
    "# create random array to be saved as datafile\n",
    "ex_datafile = np.random.randint(0,10,size = (10,10))\n",
    "ex_datafile "
   ]
  },
  {
   "cell_type": "code",
   "execution_count": 19,
   "metadata": {},
   "outputs": [],
   "source": [
    "# save numpy array as csv\n",
    "np.savetxt(\"datafile.csv\", ex_datafile, delimiter=\",\")"
   ]
  },
  {
   "cell_type": "code",
   "execution_count": 20,
   "metadata": {},
   "outputs": [
    {
     "name": "stdout",
     "output_type": "stream",
     "text": [
      "datafile.csv\n",
      "INTRO_NumPy1.ipynb\n",
      "INTRO_NumPy2.ipynb\n",
      "INTRO_NumPy3.ipynb\n",
      "INTRO_NumPy.ipynb\n",
      "INTRO_PYTHON1_file_control&basic_computing.ipynb\n",
      "INTRO_PYTHON2_defining_objects.ipynb\n",
      "INTRO_PYTHON3_lists&for_loops.ipynb\n",
      "INTRO_PYTHON4_if_statements&functions.ipynb\n",
      "INTRO_PYTHON.ipynb\n",
      "Learn_MatPlotLib.ipynb\n",
      "Practicing Conditional Statements.ipynb\n",
      "RPS.ipynb\n",
      "Sample_Project.ipynb\n",
      "untitled.dio\n"
     ]
    }
   ],
   "source": [
    "# file is saved in current directory \n",
    "# to view all the files in the directory use this command\n",
    "%ls"
   ]
  },
  {
   "cell_type": "code",
   "execution_count": 22,
   "metadata": {},
   "outputs": [],
   "source": [
    "# to read in files that are saved in the directory\n",
    "reee = np.loadtxt(\"datafile.csv\", delimiter = \",\")"
   ]
  },
  {
   "cell_type": "code",
   "execution_count": null,
   "metadata": {},
   "outputs": [],
   "source": []
  },
  {
   "cell_type": "code",
   "execution_count": null,
   "metadata": {},
   "outputs": [],
   "source": []
  }
 ],
 "metadata": {
  "kernelspec": {
   "display_name": "Python 3",
   "language": "python",
   "name": "python3"
  },
  "language_info": {
   "codemirror_mode": {
    "name": "ipython",
    "version": 3
   },
   "file_extension": ".py",
   "mimetype": "text/x-python",
   "name": "python",
   "nbconvert_exporter": "python",
   "pygments_lexer": "ipython3",
   "version": "3.6.5"
  }
 },
 "nbformat": 4,
 "nbformat_minor": 2
}
