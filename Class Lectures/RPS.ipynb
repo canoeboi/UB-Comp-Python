{
 "cells": [
  {
   "cell_type": "code",
   "execution_count": 2,
   "metadata": {},
   "outputs": [],
   "source": [
    "import random;"
   ]
  },
  {
   "cell_type": "code",
   "execution_count": 3,
   "metadata": {},
   "outputs": [
    {
     "name": "stdin",
     "output_type": "stream",
     "text": [
      "Enter rock, paper, or scissors : gun\n"
     ]
    },
    {
     "name": "stdout",
     "output_type": "stream",
     "text": [
      "gun\n"
     ]
    },
    {
     "name": "stdin",
     "output_type": "stream",
     "text": [
      "Invalid input, please input rock, paper, or scissors: scissors\n"
     ]
    },
    {
     "name": "stdout",
     "output_type": "stream",
     "text": [
      "You Won\n",
      "You chose :scissors\n",
      "Computer chose :paper\n"
     ]
    }
   ],
   "source": [
    "play = input('Enter rock, paper, or scissors :')\n",
    "play = play.lower(); #possible error \n",
    "while(play != 'rock' and play != 'paper' and play != 'scissors'):\n",
    "    print(play);\n",
    "    play = input(\"Invalid input, please input rock, paper, or scissors:\")\n",
    "pcRand = random.randint(1,3);\n",
    "if(pcRand == 1):\n",
    "    pChoice = 'paper';\n",
    "elif(pcRand == 2):\n",
    "    pChoice = 'scissors';\n",
    "elif(pcRand == 3):\n",
    "    pChoice = 'rock';\n",
    "else:\n",
    "    pChoice = 'error'\n",
    "if(play == pChoice):\n",
    "    print('Tie!');\n",
    "    \n",
    "elif(play == 'paper'):\n",
    "    if pChoice == 'scissors':\n",
    "        print('You Lost')\n",
    "    else:\n",
    "        print('You Won')\n",
    "elif(play == 'scissors'):\n",
    "    if pChoice == 'rock':\n",
    "        print('You Lost')\n",
    "    else:\n",
    "        print('You Won')\n",
    "elif(play == 'rock'):\n",
    "    if pChoice == 'paper':\n",
    "        print('You Lost')\n",
    "    else:\n",
    "        print('You Won')\n",
    "print('You chose :' + play)\n",
    "print('Computer chose :' + pChoice)"
   ]
  },
  {
   "cell_type": "code",
   "execution_count": null,
   "metadata": {},
   "outputs": [],
   "source": []
  }
 ],
 "metadata": {
  "kernelspec": {
   "display_name": "Python 3",
   "language": "python",
   "name": "python3"
  },
  "language_info": {
   "codemirror_mode": {
    "name": "ipython",
    "version": 3
   },
   "file_extension": ".py",
   "mimetype": "text/x-python",
   "name": "python",
   "nbconvert_exporter": "python",
   "pygments_lexer": "ipython3",
   "version": "3.5.3"
  }
 },
 "nbformat": 4,
 "nbformat_minor": 2
}
