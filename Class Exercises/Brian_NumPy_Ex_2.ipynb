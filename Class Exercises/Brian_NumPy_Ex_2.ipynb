{
 "cells": [
  {
   "cell_type": "markdown",
   "metadata": {},
   "source": [
    "### EXERCISES\n",
    "\n",
    "1. Using one of the methods from np.random create an array of size 4,4 with random numbers from 0-100. You can have these numbers be ints or floats. \n",
    "    * Find the standard deviation. Find the variance. Find the mean.  \n",
    "    * Define an array that has the sum for each column.\n",
    "    * Define an array that is the product of the elements of the previous array.\n",
    "\n",
    "2. Practice using indexing for numpy arrays. \n",
    "    * Print the first row of the original (4,4) array.\n",
    "    * Print the last element of the third row.\n",
    "    * Print the second column. \n",
    "    * (Optional) Define an array for each column of the array. Use the np.hstack command to put all the columns back together and get the original matrix."
   ]
  },
  {
   "cell_type": "code",
   "execution_count": 10,
   "metadata": {},
   "outputs": [],
   "source": [
    "import numpy as np"
   ]
  },
  {
   "cell_type": "markdown",
   "metadata": {},
   "source": [
    "#### 1. Using one of the methods from np.random create an array of size 4,4 with random numbers from 0-100. You can have these numbers be ints or floats. "
   ]
  },
  {
   "cell_type": "code",
   "execution_count": 11,
   "metadata": {},
   "outputs": [
    {
     "data": {
      "text/plain": [
       "array([[29, 12, 88, 76],\n",
       "       [ 7, 65, 55, 38],\n",
       "       [58, 86, 77, 38],\n",
       "       [25, 85, 92,  6]])"
      ]
     },
     "execution_count": 11,
     "metadata": {},
     "output_type": "execute_result"
    }
   ],
   "source": [
    "ran_array = np.random.randint(1,100, size = (4,4)) #chooses a set of numbers to arrange in the specified array size\n",
    "ran_array"
   ]
  },
  {
   "cell_type": "code",
   "execution_count": 12,
   "metadata": {},
   "outputs": [
    {
     "name": "stdout",
     "output_type": "stream",
     "text": [
      "Standard Deviation of array is 29.522700482\n",
      "Variance of array is 871.58984375\n",
      "Mean of array is 52.3125\n"
     ]
    }
   ],
   "source": [
    "print('Standard Deviation of array is',np.std(ran_array))\n",
    "#calculates the standard deviation of the given array\n",
    "print('Variance of array is', np.var(ran_array))\n",
    "#calculates the variance of the given array\n",
    "print('Mean of array is',np.mean(ran_array))\n",
    "#calculates the mean/average of the given array"
   ]
  },
  {
   "cell_type": "code",
   "execution_count": 13,
   "metadata": {},
   "outputs": [
    {
     "name": "stdout",
     "output_type": "stream",
     "text": [
      "[[29 12 88 76]\n",
      " [ 7 65 55 38]\n",
      " [58 86 77 38]\n",
      " [25 85 92  6]]\n"
     ]
    },
    {
     "data": {
      "text/plain": [
       "array([119, 248, 312, 158])"
      ]
     },
     "execution_count": 13,
     "metadata": {},
     "output_type": "execute_result"
    }
   ],
   "source": [
    "colu_sum = np.sum(ran_array, axis = 0) #axis = 0 adds the columns to an array\n",
    "print(ran_array)                       #axis = 1 adds the rows\n",
    "colu_sum"
   ]
  },
  {
   "cell_type": "markdown",
   "metadata": {},
   "source": [
    "#### 2. Practice using indexing for numpy arrays. "
   ]
  },
  {
   "cell_type": "markdown",
   "metadata": {},
   "source": [
    "Print the first row of the original (4,4) array."
   ]
  },
  {
   "cell_type": "code",
   "execution_count": 14,
   "metadata": {},
   "outputs": [
    {
     "name": "stdout",
     "output_type": "stream",
     "text": [
      "[29 12 88 76]\n"
     ]
    }
   ],
   "source": [
    "print(ran_array[0]) #prints the first row of the array"
   ]
  },
  {
   "cell_type": "markdown",
   "metadata": {},
   "source": [
    "Print the last element of the third row."
   ]
  },
  {
   "cell_type": "code",
   "execution_count": 15,
   "metadata": {},
   "outputs": [
    {
     "name": "stdout",
     "output_type": "stream",
     "text": [
      "38\n"
     ]
    }
   ],
   "source": [
    "print(ran_array[-2][-1]) # The -2 represents the 3rd row or the 2nd to the last\n",
    "# The -1 represent which elements to print, the last"
   ]
  },
  {
   "cell_type": "markdown",
   "metadata": {},
   "source": [
    "Print the second column. "
   ]
  },
  {
   "cell_type": "code",
   "execution_count": 32,
   "metadata": {},
   "outputs": [
    {
     "data": {
      "text/plain": [
       "array([[12],\n",
       "       [65],\n",
       "       [86],\n",
       "       [85]])"
      ]
     },
     "execution_count": 32,
     "metadata": {},
     "output_type": "execute_result"
    }
   ],
   "source": [
    "ran_array[:,1:2] #prints out the first column, replace the ran_array with your defined array"
   ]
  },
  {
   "cell_type": "markdown",
   "metadata": {},
   "source": [
    "#### FINANCE APPLICATIONS\n",
    "$$ CashFlow = Income - Expenses $$\n",
    "1. Create a function that computes the cash flow when given values for income and expenses. Make sure to return the cash flow at the end of the function.\n",
    "\n",
    "    * Test the function with some values\n",
    "    \n",
    "2. Create a 1d array of 50 random values between 1-20 for Income and an array for Expenses.\n",
    "\n",
    "    * Define an object called Cash Flow that is equal to the result of passing these arrays through your function\n",
    "    * Use np.argmax/min and np.max/min to determine the maximum and minimum Cash Flows from the set from these random values.\n",
    "    * Next, use np.sum to sum both the incomes and the expenses. Then, again use the function to calculate the total cash flow."
   ]
  },
  {
   "cell_type": "markdown",
   "metadata": {},
   "source": [
    "#### 1.) Create a function that computes the cash flow when given values for income and expenses. Make sure to return the cash flow at the end of the function."
   ]
  },
  {
   "cell_type": "code",
   "execution_count": 17,
   "metadata": {},
   "outputs": [],
   "source": [
    "def calc_cash(i,e):#defines function with the values to be given (i and v)\n",
    "    fl = i - e #given function\n",
    "    return fl"
   ]
  },
  {
   "cell_type": "markdown",
   "metadata": {},
   "source": [
    "### Test the function with some values"
   ]
  },
  {
   "cell_type": "code",
   "execution_count": 18,
   "metadata": {},
   "outputs": [
    {
     "data": {
      "text/plain": [
       "1"
      ]
     },
     "execution_count": 18,
     "metadata": {},
     "output_type": "execute_result"
    }
   ],
   "source": [
    "calc_cash(2,1) #inputs values for i and e"
   ]
  },
  {
   "cell_type": "markdown",
   "metadata": {},
   "source": [
    "### 2.) Create a 1d array of 50 random values between 1-20 for Income and an array for Expenses"
   ]
  },
  {
   "cell_type": "code",
   "execution_count": 31,
   "metadata": {},
   "outputs": [
    {
     "name": "stdout",
     "output_type": "stream",
     "text": [
      "[ 2 15  7  3 14 17 19  3  1 18  9  7 15 11  8 18  7  1  9 13 14  4 14  1 12\n",
      "  8  1 16 13 12 11  2 19  7  4  9  4  8  2 11  1  2  8  6  4 14 14 15 12  1]\n",
      "[17 15  6 11  4 13 18  5 14 12 19 10  4  6  4 13  3  8 13 15 15 12 18  7  4\n",
      " 17 13  3  1  8  7  8 13 10  7 17 12  3  2  1 15 14 19  9 17  6 18  7 10 16]\n"
     ]
    }
   ],
   "source": [
    "inc_array = np.random.randint(1,20, size=50) #chooses values from 1-20 and makes an array of 50 values\n",
    "print(inc_array)  #size defines the amount of values in the array\n",
    "exp_array = np.random.randint(1,20, size=50)\n",
    "print(exp_array)"
   ]
  },
  {
   "cell_type": "markdown",
   "metadata": {},
   "source": [
    "### B.) Define an object called Cash Flow that is equal to the result of passing these arrays through your function"
   ]
  },
  {
   "cell_type": "code",
   "execution_count": 42,
   "metadata": {},
   "outputs": [
    {
     "name": "stdout",
     "output_type": "stream",
     "text": [
      "[-15   0   1  -8  10   4   1  -2 -13   6 -10  -3  11   5   4   5   4  -7\n",
      "  -4  -2  -1  -8  -4  -6   8  -9 -12  13  12   4   4  -6   6  -3  -3  -8\n",
      "  -8   5   0  10 -14 -12 -11  -3 -13   8  -4   8   2 -15]\n"
     ]
    }
   ],
   "source": [
    "cash_flow = calc_cash(inc_array,exp_array) #instead of i and e, it uses the previously defined arrays \n",
    "print(cash_flow)"
   ]
  },
  {
   "cell_type": "markdown",
   "metadata": {},
   "source": [
    "### C.) Use np.argmax/min and np.max/min to determine the maximum and minimum Cash Flows from the set from these random values."
   ]
  },
  {
   "cell_type": "code",
   "execution_count": 27,
   "metadata": {},
   "outputs": [
    {
     "name": "stdout",
     "output_type": "stream",
     "text": [
      "3\n"
     ]
    },
    {
     "data": {
      "text/plain": [
       "13"
      ]
     },
     "execution_count": 27,
     "metadata": {},
     "output_type": "execute_result"
    }
   ],
   "source": [
    "print(np.argmax(cash_flow)) #finds the maximum value in the previous array\n",
    "np.argmin(cash_flow) #finds the smallest value in the previous array"
   ]
  },
  {
   "cell_type": "markdown",
   "metadata": {},
   "source": [
    "### D.) Next, use np.sum to sum both the incomes and the expenses. Then, again use the function to calculate the total cash flow."
   ]
  },
  {
   "cell_type": "code",
   "execution_count": 40,
   "metadata": {},
   "outputs": [
    {
     "data": {
      "text/plain": [
       "-73"
      ]
     },
     "execution_count": 40,
     "metadata": {},
     "output_type": "execute_result"
    }
   ],
   "source": [
    "a = np.sum(inc_array, axis=0) #adds up all the values in the inc_array\n",
    "b = np.sum(exp_array, axis=0) #adds up all the values in the exp_array\n",
    "calc_cash(a,b) #uses the defined values to calculate cash flow"
   ]
  },
  {
   "cell_type": "code",
   "execution_count": null,
   "metadata": {},
   "outputs": [],
   "source": []
  }
 ],
 "metadata": {
  "kernelspec": {
   "display_name": "Python 3",
   "language": "python",
   "name": "python3"
  },
  "language_info": {
   "codemirror_mode": {
    "name": "ipython",
    "version": 3
   },
   "file_extension": ".py",
   "mimetype": "text/x-python",
   "name": "python",
   "nbconvert_exporter": "python",
   "pygments_lexer": "ipython3",
   "version": "3.5.3"
  }
 },
 "nbformat": 4,
 "nbformat_minor": 2
}
