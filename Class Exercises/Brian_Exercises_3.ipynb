{
 "cells": [
  {
   "cell_type": "markdown",
   "metadata": {},
   "source": [
    "### EXERCISES\n",
    "1. Define a list of 10 numbers from 0-9. example - my_list = [1, 5, 8, 3, 7, 9, 5, 2, 6, 3]\n",
    "\n",
    "2. Use indexing to print the following portions of the list:\n",
    "    * print the last element of the list\n",
    "    * print the first element of the list\n",
    "    * print the last 5 elements of the list\n",
    "    * print the first 3 elements of the list\n",
    "    * print the elements of the list excluding the first and last\n",
    "    \n",
    "3. Define an object as the string 'PHYSICS'. Define an empty list. Use a for loop to append each letter of the string as an element of the list. The ending list should look like this: \n",
    "example_list = [P, H, Y, S, I, C, S]\n",
    "\n",
    "#### PHYSICS PROBLEMS\n",
    "\n",
    "We are going to revisist problem 1 from the previous set of exercises, but this time use lists and for loops to calculate over a variety of initial velocities. I will restate the physical situation:\n",
    "\n",
    "1. Consider a ball that starts from the ground with an initial speed and acceleration due to gravity being -9.8 m/s$^2$. The ball goes up, reaches a maximum height, and falls back to the ground where it started. Rather than consider one ball with just one initial velocity, we will define our initial velocity as a list. \n",
    "    * Define a list: init_vel_list = [5, 10, 15, 20, 25]. \n",
    "    * Define an empty lists for the following: time_top_list, time_tot_list, max_h_list. \n",
    "    * Using a for loop and the equations of kinematic motion, find the time it takes to reach max height for each initial velocity, append these values to time_top_list. \n",
    "    * Using a for loop, multiply each element of time_top_list and append these values to top_tot_list.\n",
    "    * Using a for loop, calculate the max height for each initial velocity and append these values to the max_h_list. \n",
    "    * Make sure to markdown before each step with a description of what you are trying to do. Comment alongside each line to explain the commands. \n",
    "    \n",
    "If you finish then look at problems 2 and 3 from the last exercise set and try to use lists and loops for those problems as well. "
   ]
  },
  {
   "cell_type": "markdown",
   "metadata": {},
   "source": [
    "# 1.) Define a list of 10 numbers from 0-9. \n",
    "\n",
    "ran_list = [1,5,2,3,0,8,6,4,7,9]"
   ]
  },
  {
   "cell_type": "markdown",
   "metadata": {},
   "source": [
    "# 2.) Use indexing to print the following portions of the list:"
   ]
  },
  {
   "cell_type": "code",
   "execution_count": null,
   "metadata": {},
   "outputs": [],
   "source": [
    "ran_list = [1,5,2,3,0,8,6,4,7,9]\n",
    "print(ran_list[-1]) #To print last element of list\n",
    "print(ran_list[0]) #To print the first element of list\n",
    "print(ran_list[-5:]) #Printed the last 5 elements of list, always prints last 5 elements of list\n",
    "print(ran_list[0:3]) #To print the first 3 elements of list\n",
    "print(ran_list[1:-1]) #To print the list excluding first and last elements of the list"
   ]
  },
  {
   "cell_type": "markdown",
   "metadata": {},
   "source": [
    "# 3.) Defined object string as physics."
   ]
  },
  {
   "cell_type": "code",
   "execution_count": null,
   "metadata": {},
   "outputs": [],
   "source": [
    "p_str = 'PHYSICS' #Defined string as word PHYSICS, remember a string is a collection of characters/text\n",
    "e_list = [] #Empty list\n",
    "\n",
    "for i in range (0,len(p_str),1): #For every letter in p_str\n",
    "    e_list += [p_str[i]] #can also use .append([p_str[i]]) instead of [p_str[i]]\n",
    "print(e_list) #Prints finished list"
   ]
  },
  {
   "cell_type": "markdown",
   "metadata": {},
   "source": [
    "# 4.) Create a list with 5 elements. Create another list that has elements equal to double the values of the values of the elements of the first list."
   ]
  },
  {
   "cell_type": "code",
   "execution_count": null,
   "metadata": {},
   "outputs": [],
   "source": [
    "five_list = [1,2,3,4,5]\n",
    "d_list = [i * 2 for i in five_list]\n",
    "\n",
    "print(d_list)\n",
    "\n",
    "    "
   ]
  },
  {
   "cell_type": "markdown",
   "metadata": {},
   "source": [
    "## 1.) Define the initial velocities, make empty lists, and calculate t_ymax for each initial velocity"
   ]
  },
  {
   "cell_type": "code",
   "execution_count": null,
   "metadata": {},
   "outputs": [],
   "source": [
    "# Part 1.) Define init_vel_list as [5,10,15,20,25]\n",
    "init_vel_list = [5,10,15,20,25] #contains initial velocities for each ball\n",
    "# Part 2.) Define empty lists\n",
    "time_ymax_list = [] #time on the way up\n",
    "time_tot_list = [] #time up and back down\n",
    "ymax_list = [] #maximum height reached\n",
    "\n",
    "#Defined Variables\n",
    "a = -10\n",
    "y_i = 0\n",
    "\n",
    "# Part 3.)Create loop that calculates time_ymax for each initial velocity\n",
    "time_ymax_list = []\n",
    "for i in range(len(init_vel_list)): #Can also use for i in(init_vel_list):\n",
    "    time_ymax_list.append(init_vel_list[i]/-a) #Can also use (i/-a) instead of init_vel_list\n",
    "print('Time for max height of each ball',time_ymax_list)\n",
    "\n"
   ]
  },
  {
   "cell_type": "markdown",
   "metadata": {},
   "source": [
    "## 2.) To find time taken for each ball at varying initial velocities"
   ]
  },
  {
   "cell_type": "code",
   "execution_count": null,
   "metadata": {},
   "outputs": [],
   "source": [
    "# Part 4.)Using a for loop, multiply each element of time_ymax_list and append these values to top_tot_list.\n",
    "time_tot_list = [] #Prevents duplicate list outputs\n",
    "for i in range(len(time_ymax_list)):\n",
    "    time_tot_list.append(time_ymax_list[i]*2)\n",
    "print('Time taken for each initial velocity = ',time_tot_list)\n",
    "    "
   ]
  },
  {
   "cell_type": "markdown",
   "metadata": {},
   "source": [
    "## 3.) To find maximum height for each ball at varying initial velocities"
   ]
  },
  {
   "cell_type": "code",
   "execution_count": null,
   "metadata": {},
   "outputs": [],
   "source": [
    "# Clear the list each time cell is run\n",
    "# Part 5.)Using a for loop, calculate the max height for each intial velocity and append these values to the ymax_list\n",
    "ymax_list = [] #Input empty lists again to prevent duplicate outputs\n",
    "for i in range(len(time_ymax_list)):\n",
    "    ymax = y_i + init_vel_list[i]*time_ymax_list[i] + ((1/2)*a*(time_ymax_list[i]**2)) #Calculates ymax for each valocity in the init_vel_list\n",
    "    ymax_list.append(ymax)\n",
    "print('Maximum height for each initial velocity =',ymax_list)"
   ]
  },
  {
   "cell_type": "markdown",
   "metadata": {},
   "source": [
    "# It is friday"
   ]
  }
 ],
 "metadata": {
  "kernelspec": {
   "display_name": "Python 3",
   "language": "python",
   "name": "python3"
  },
  "language_info": {
   "codemirror_mode": {
    "name": "ipython",
    "version": 3
   },
   "file_extension": ".py",
   "mimetype": "text/x-python",
   "name": "python",
   "nbconvert_exporter": "python",
   "pygments_lexer": "ipython3",
   "version": "3.5.3"
  }
 },
 "nbformat": 4,
 "nbformat_minor": 2
}
