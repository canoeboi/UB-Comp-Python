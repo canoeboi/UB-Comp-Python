{
 "cells": [
  {
   "cell_type": "markdown",
   "metadata": {},
   "source": [
    "### EXERCISES\n",
    "1. Create a list of at least 10 numbers containing 5 zeros and 5 random integers. Ex - list = [0,1,0,2,3,0,0,0,4,0,5,6,0]. Create an empty list. Write a for loop that checks to see if the element of the list is a zero or not and if it is a zero append the string 'Not Defined' and if its not a zero append the inverse of the value to the empty list. You will need to use if/else/elif conditional statements. \n",
    "\n",
    "2. Convert the for loop above into a function.\n",
    "\n",
    "3. Write a function that computes the area of a circle given the radius.\n",
    "\n",
    "4. Change that function so that it can loop through a list of radii.\n",
    "\n",
    "\n",
    "#### PHYSICS PROBLEMS\n",
    "1. In circuit, we can measure resistance (R), current (I), and voltage (V) and they are related by the equation:\n",
    "\n",
    "$$V = IR .$$\n",
    "\n",
    "Using this equation write a function that takes resistance as an input, voltage is already defined, and calculates the current. \n",
    "\n",
    "2. Change this function so it can accept a list of resistances. Call the function for a list of at least 5 values. \n",
    "\n",
    "3. Using the resulting list of currents and an empty list, create a function that checks if the current is above some threshold. If it is above, append the string 'Resistor Fail'. If it is below, append the string 'Resistor Safe'. "
   ]
  },
  {
   "cell_type": "markdown",
   "metadata": {},
   "source": [
    "## 1.) Creating a list to append 'Not Defined' to every zero and inverse to every non-zero"
   ]
  },
  {
   "cell_type": "code",
   "execution_count": null,
   "metadata": {},
   "outputs": [],
   "source": [
    "my_list = [0,0,0,0,0,1,2,3,4,5] # Defined my_list with 5 integers and 5 zero's\n",
    "e_list = [] # Empty List\n",
    "for i in range(len(my_list)): #For loop to scan through my_list\n",
    "    if my_list[i] == 0: #if number is equal to zero, print 'Not Defined'\n",
    "        e_list.append('Not Defined') \n",
    "    else: #if number is not zero, print inverse of number\n",
    "        e_list.append(i**(-1))\n",
    "print(e_list) \n"
   ]
  },
  {
   "cell_type": "markdown",
   "metadata": {},
   "source": [
    "## 2.) Convert the for loop into a function"
   ]
  },
  {
   "cell_type": "code",
   "execution_count": null,
   "metadata": {},
   "outputs": [],
   "source": [
    "def thing(x):\n",
    "    thing_list = []\n",
    "    for i in range (len(x)):\n",
    "        thing_list.append(x[i]**-1)\n",
    "    return(thing_list)"
   ]
  },
  {
   "cell_type": "markdown",
   "metadata": {},
   "source": [
    "## 3.) Write a function that computes the area of a circle given the radius"
   ]
  },
  {
   "cell_type": "code",
   "execution_count": null,
   "metadata": {},
   "outputs": [],
   "source": [
    "import math #imports more complex math operations\n",
    "pi = math.pi #shortents pi into 1 variable\n",
    "#r = float(input('Enter Your Radius'))\n",
    "def calc_ar_circ(): #leave blank because input will be defined by user\n",
    "    r = float(input('Enter Your Radius')) #custom radius inputted by user\n",
    "    a = pi *(r**2) #area of circle\n",
    "    return a \n",
    "calc_ar_circ() #run"
   ]
  },
  {
   "cell_type": "markdown",
   "metadata": {},
   "source": [
    "## 3b.) Without functions"
   ]
  },
  {
   "cell_type": "code",
   "execution_count": null,
   "metadata": {},
   "outputs": [],
   "source": [
    "import math\n",
    "pi = math.pi\n",
    "\n",
    "r = float(input('Enter Your Radius')) \n",
    "area = pi * r**2\n",
    "print('Area of your circle is',round(area,2))"
   ]
  },
  {
   "cell_type": "markdown",
   "metadata": {},
   "source": [
    "## 4.) Change that function so that it can loop through a list of radii"
   ]
  },
  {
   "cell_type": "code",
   "execution_count": null,
   "metadata": {},
   "outputs": [],
   "source": [
    "import math \n",
    "pi = math.pi\n",
    "area_list = [] #empty list for list of areas\n",
    "rad_list = [1,2,3,4,5] #list of radii\n",
    "for i in range(len(rad_list)): #scans through length of radii list \n",
    "    area_list.append(rad_list[i]**2*pi) #calculates and puts all outputs into the empty list\n",
    "print(['%2f'% i for i in area_list]) #prints while limiting decimal places"
   ]
  },
  {
   "cell_type": "markdown",
   "metadata": {},
   "source": [
    "# Physics problem 1\n",
    "#### PHYSICS PROBLEMS\n",
    "1. In circuit, we can measure resistance (R), current (I), and voltage (V) and they are related by the equation:\n",
    "\n",
    "$$V = IR .$$\n",
    "\n",
    "Using this equation write a function that takes resistance as an input, voltage is already defined, and calculates the current. \n",
    "\n",
    "2. Change this function so it can accept a list of resistances. Call the function for a list of at least 5 values. \n",
    "\n",
    "3. Using the resulting list of currents and an empty list, create a function that checks if the current is above some threshold. If it is above, append the string 'Resistor Fail'. If it is below, append the string 'Resistor Safe'. "
   ]
  },
  {
   "cell_type": "markdown",
   "metadata": {},
   "source": [
    "## 1.)"
   ]
  },
  {
   "cell_type": "code",
   "execution_count": null,
   "metadata": {},
   "outputs": [],
   "source": [
    "v = float(input('Input your voltage')) #allows user to input their own values\n",
    "r = float(input('Input your resistance'))\n",
    "def vol_calc(r): #defines function\n",
    "    i = v/r\n",
    "    return i\n",
    "vol_calc(r)"
   ]
  },
  {
   "cell_type": "markdown",
   "metadata": {},
   "source": [
    "## 2.) Change so it can accept a list of resistances. Call the function for a list of at least 5 values"
   ]
  },
  {
   "cell_type": "markdown",
   "metadata": {},
   "source": [
    "## A.) Uses custom user input to calculate and output a custom list "
   ]
  },
  {
   "cell_type": "code",
   "execution_count": 17,
   "metadata": {},
   "outputs": [
    {
     "name": "stdout",
     "output_type": "stream",
     "text": [
      "Input up to 5 resistances\n"
     ]
    },
    {
     "name": "stdin",
     "output_type": "stream",
     "text": [
      "Enter your 1st Resistance: 4\n",
      "Enter your 2nd Resistance: 5\n",
      "Enter your 3rd Resistance: 6\n",
      "Enter your 4th Resistance: 7\n",
      "Enter your 5th Resistance: 8\n",
      "Enter your voltage: 2\n"
     ]
    },
    {
     "data": {
      "text/plain": [
       "[2.0, 2.5, 3.0, 3.5, 4.0]"
      ]
     },
     "execution_count": 17,
     "metadata": {},
     "output_type": "execute_result"
    }
   ],
   "source": [
    "print('Input up to 5 resistances')\n",
    "r1 = float(input('Enter your 1st Resistance:')) #accepts user input to create custom list\n",
    "r2 = float(input('Enter your 2nd Resistance:'))\n",
    "r3 = float(input('Enter your 3rd Resistance:'))\n",
    "r4 = float(input('Enter your 4th Resistance:'))\n",
    "r5 = float(input('Enter your 5th Resistance:'))\n",
    "v = float(input('Enter your voltage:'))\n",
    "res_list = [r1,r2,r3,r4,r5] #list made from user inputted numbers\n",
    "current_list = [] #blank list to output to\n",
    "def vol_calc_plus(): #defines the function from user input\n",
    "    for i in range(len(res_list)): #for every element in the length of the res_list\n",
    "                                    #creates a list of calculated values from res_list\n",
    "        current_list.append(res_list[i]/v) #appends each value from the calculated list to the empty list\n",
    "    return current_list\n",
    "vol_calc_plus()"
   ]
  },
  {
   "cell_type": "markdown",
   "metadata": {},
   "source": [
    "## B.) Uses a previously defined list to calculate"
   ]
  },
  {
   "cell_type": "code",
   "execution_count": 7,
   "metadata": {},
   "outputs": [
    {
     "data": {
      "text/plain": [
       "[0.5, 1.0, 1.5, 2.0, 2.5]"
      ]
     },
     "execution_count": 7,
     "metadata": {},
     "output_type": "execute_result"
    }
   ],
   "source": [
    "res_list = [] #blank list to output to\n",
    "thingy_list = [1,2,3,4,5] \n",
    "def vol_calc_plus(j): #defines the function\n",
    "    for i in range(len(j)):\n",
    "        res_list.append(thingy_list[i]/v)\n",
    "    return res_list #returns results\n",
    "vol_calc_plus(thingy_list) #calculates and outputs the list"
   ]
  },
  {
   "cell_type": "markdown",
   "metadata": {},
   "source": [
    "3. Using the resulting list of currents and an empty list, create a function that checks if the current is above some threshold. If it is above, append the string 'Resistor Fail'. If it is below, append the string 'Resistor Safe'. "
   ]
  },
  {
   "cell_type": "markdown",
   "metadata": {},
   "source": [
    "### Solution 1"
   ]
  },
  {
   "cell_type": "code",
   "execution_count": 24,
   "metadata": {},
   "outputs": [],
   "source": [
    "def check_curr(I): #defines function\n",
    "    Pass_Fail = [] #blank list to output to\n",
    "    for i in range(0,len(I),1): #for loop steps through the list of currents\n",
    "        if I[i] >= 0.6: #if element is greater than 0.6, print resistor fail\n",
    "            Pass_Fail.append('Resistor Fail')\n",
    "            \n",
    "        else: # if anything besides that, print resistor safe\n",
    "            Pass_Fail.append('Resistor Safe')\n",
    "    return Pass_Fail #always return results"
   ]
  },
  {
   "cell_type": "code",
   "execution_count": 32,
   "metadata": {},
   "outputs": [
    {
     "data": {
      "text/plain": [
       "['Resistor Fail',\n",
       " 'Resistor Fail',\n",
       " 'Resistor Fail',\n",
       " 'Resistor Fail',\n",
       " 'Resistor Fail']"
      ]
     },
     "execution_count": 32,
     "metadata": {},
     "output_type": "execute_result"
    }
   ],
   "source": [
    "check_curr(I_list)"
   ]
  },
  {
   "cell_type": "markdown",
   "metadata": {},
   "source": [
    "### Alternative"
   ]
  },
  {
   "cell_type": "code",
   "execution_count": null,
   "metadata": {},
   "outputs": [],
   "source": [
    "for i in range(len(current_list)): #Uses the list created from the previous problem\n",
    "    if current_list[i] >= 0.6: # If element of list is greater than or equal to 3, resistor fail\n",
    "        print('Resistor fail')\n",
    "    elif current_list[i] < 0.6: # If element of list is lesser than 3, resistor safe \n",
    "        print('Resistor safe')"
   ]
  },
  {
   "cell_type": "markdown",
   "metadata": {},
   "source": [
    " ## Extra Activity"
   ]
  },
  {
   "cell_type": "markdown",
   "metadata": {},
   "source": [
    "Let's get a sneak peak at the next tool we're going to learn and plot the lists for current and resistance. Copy the syntax below using the list names you used from the physics problem."
   ]
  },
  {
   "cell_type": "code",
   "execution_count": 27,
   "metadata": {},
   "outputs": [],
   "source": [
    "# first look at plotting data\n",
    "import matplotlib.pyplot as plt\n",
    "%matplotlib inline #inline puts the graph in the cell below, rather than in another window"
   ]
  },
  {
   "cell_type": "code",
   "execution_count": 30,
   "metadata": {},
   "outputs": [
    {
     "data": {
      "text/plain": [
       "<function matplotlib.pyplot.show(*args, **kw)>"
      ]
     },
     "execution_count": 30,
     "metadata": {},
     "output_type": "execute_result"
    },
    {
     "data": {
      "image/png": "[encoded data removed]",
      "text/plain": [
       "<matplotlib.figure.Figure at 0x6e6b7610>"
      ]
     },
     "metadata": {
      "needs_background": "light"
     },
     "output_type": "display_data"
    }
   ],
   "source": [
    "plt.plot(I_list, res_list, '^')\n",
    "plt.show"
   ]
  },
  {
   "cell_type": "code",
   "execution_count": null,
   "metadata": {},
   "outputs": [],
   "source": []
  }
 ],
 "metadata": {
  "kernelspec": {
   "display_name": "Python 3",
   "language": "python",
   "name": "python3"
  },
  "language_info": {
   "codemirror_mode": {
    "name": "ipython",
    "version": 3
   },
   "file_extension": ".py",
   "mimetype": "text/x-python",
   "name": "python",
   "nbconvert_exporter": "python",
   "pygments_lexer": "ipython3",
   "version": "3.5.3"
  }
 },
 "nbformat": 4,
 "nbformat_minor": 2
}
