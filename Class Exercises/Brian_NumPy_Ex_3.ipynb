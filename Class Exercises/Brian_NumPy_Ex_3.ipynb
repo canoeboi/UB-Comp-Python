{
 "cells": [
  {
   "cell_type": "markdown",
   "metadata": {},
   "source": [
    "### EXERCISES\n",
    "\n",
    "1. Use np.linspace to create an array of angles from 0 to 2$\\pi$. \n",
    "    * Use the np.sin command on the array. Do the same for np.cos and np.tan. \n",
    "    * Convert the array of angles from radians to degrees. \n",
    "    \n",
    "2. Create a 2 by 2 array of random integers. \n",
    "    * Transpose the matrix.\n",
    "    * Find the determinant of the matrix. \n",
    "    * Find the inverse of the matrix.\n",
    "    * Find the eigenvalues and eigenvectors of the matrix.\n",
    "    \n",
    "3. Use an array you already have or create a new one and save it as a csv file. Use ls to check the file was saved to the current \n",
    "#### PHYSICS PROBLEMS\n",
    "\n",
    "PROJECTILE MOTION\n",
    "\n",
    "A ball is launched from ground level at 10 m/s and an angle of 45 degrees. The acceleration due to gravity is -9.8 m/s$^2$ and air resistance can be neglected. \n",
    "\n",
    "1. Find the components of the launch velocity:\n",
    "    * What is the velocity in the upward direction? Define this as  v_y.\n",
    "    * What is the velocity in the horizontal direction? Define this as v_x. \n",
    "    * Determine the time of flight for the ball.\n",
    "    * Determine the maximum height of the ball.\n",
    "    * Determine the range of the ball.\n",
    "    \n",
    "2. Define a function our a few functions that solves the problem above. \n",
    "\n",
    "3. Now, define an array of launch velocities and pass through the function for a given angle. \n",
    "\n",
    "4. Do the same but for an array of angles for a given launch velocity.\n",
    "\n",
    "5. Can you change the function with a for loop to loop through 5 different angles with 10 different launch velocities?"
   ]
  },
  {
   "cell_type": "markdown",
   "metadata": {},
   "source": [
    "#### 1A.) Use np.linspace to create an array of angles from 0 to 2$\\pi$."
   ]
  },
  {
   "cell_type": "code",
   "execution_count": 15,
   "metadata": {},
   "outputs": [],
   "source": [
    "import numpy as np\n",
    "pi = np.pi #redifined np.pi as pi \n",
    "sin = np.sin\n",
    "cos = np.cos\n",
    "tan = np.tan"
   ]
  },
  {
   "cell_type": "code",
   "execution_count": 14,
   "metadata": {},
   "outputs": [
    {
     "data": {
      "text/plain": [
       "array([ 0.        ,  0.26179939,  0.52359878,  0.78539816,  1.04719755,\n",
       "        1.30899694,  1.57079633,  1.83259571,  2.0943951 ,  2.35619449,\n",
       "        2.61799388,  2.87979327,  3.14159265,  3.40339204,  3.66519143,\n",
       "        3.92699082,  4.1887902 ,  4.45058959,  4.71238898,  4.97418837,\n",
       "        5.23598776,  5.49778714,  5.75958653,  6.02138592,  6.28318531])"
      ]
     },
     "execution_count": 14,
     "metadata": {},
     "output_type": "execute_result"
    }
   ],
   "source": [
    "pepe = np.linspace(0,2*pi,25) #creates array from 0 to 2*pi\n",
    "pepe"
   ]
  },
  {
   "cell_type": "markdown",
   "metadata": {},
   "source": [
    "#### 1B.) Use the np.sin command on the array. Do the same for np.cos and np.tan.  "
   ]
  },
  {
   "cell_type": "code",
   "execution_count": 23,
   "metadata": {},
   "outputs": [
    {
     "name": "stdout",
     "output_type": "stream",
     "text": [
      "Sin of array = [  0.00000000e+00   2.58819045e-01   5.00000000e-01   7.07106781e-01\n",
      "   8.66025404e-01   9.65925826e-01   1.00000000e+00   9.65925826e-01\n",
      "   8.66025404e-01   7.07106781e-01   5.00000000e-01   2.58819045e-01\n",
      "   1.22464680e-16  -2.58819045e-01  -5.00000000e-01  -7.07106781e-01\n",
      "  -8.66025404e-01  -9.65925826e-01  -1.00000000e+00  -9.65925826e-01\n",
      "  -8.66025404e-01  -7.07106781e-01  -5.00000000e-01  -2.58819045e-01\n",
      "  -2.44929360e-16]\n"
     ]
    }
   ],
   "source": [
    "print('Sin of array =',sin(pepe)) #uses redefined numpy operations to calculate sine of array"
   ]
  },
  {
   "cell_type": "code",
   "execution_count": 22,
   "metadata": {},
   "outputs": [
    {
     "name": "stdout",
     "output_type": "stream",
     "text": [
      "Cosine of array = [  1.00000000e+00   9.65925826e-01   8.66025404e-01   7.07106781e-01\n",
      "   5.00000000e-01   2.58819045e-01   6.12323400e-17  -2.58819045e-01\n",
      "  -5.00000000e-01  -7.07106781e-01  -8.66025404e-01  -9.65925826e-01\n",
      "  -1.00000000e+00  -9.65925826e-01  -8.66025404e-01  -7.07106781e-01\n",
      "  -5.00000000e-01  -2.58819045e-01  -1.83697020e-16   2.58819045e-01\n",
      "   5.00000000e-01   7.07106781e-01   8.66025404e-01   9.65925826e-01\n",
      "   1.00000000e+00]\n"
     ]
    }
   ],
   "source": [
    "print('Cosine of array =',cos(pepe)) #uses redefined numpy operations to calculate cosine of array"
   ]
  },
  {
   "cell_type": "code",
   "execution_count": 24,
   "metadata": {},
   "outputs": [
    {
     "name": "stdout",
     "output_type": "stream",
     "text": [
      "Tangent of array = [  0.00000000e+00   2.67949192e-01   5.77350269e-01   1.00000000e+00\n",
      "   1.73205081e+00   3.73205081e+00   1.63312394e+16  -3.73205081e+00\n",
      "  -1.73205081e+00  -1.00000000e+00  -5.77350269e-01  -2.67949192e-01\n",
      "  -1.22464680e-16   2.67949192e-01   5.77350269e-01   1.00000000e+00\n",
      "   1.73205081e+00   3.73205081e+00   5.44374645e+15  -3.73205081e+00\n",
      "  -1.73205081e+00  -1.00000000e+00  -5.77350269e-01  -2.67949192e-01\n",
      "  -2.44929360e-16]\n"
     ]
    }
   ],
   "source": [
    "print('Tangent of array =', tan(pepe)) #uses redefined numpy operations to calculate tangent of array"
   ]
  },
  {
   "cell_type": "markdown",
   "metadata": {},
   "source": [
    "#### 1C.) Convert the array of angles from radians to degrees. "
   ]
  },
  {
   "cell_type": "code",
   "execution_count": 27,
   "metadata": {},
   "outputs": [
    {
     "name": "stdout",
     "output_type": "stream",
     "text": [
      "[   0.   15.   30.   45.   60.   75.   90.  105.  120.  135.  150.  165.\n",
      "  180.  195.  210.  225.  240.  255.  270.  285.  300.  315.  330.  345.\n",
      "  360.]\n"
     ]
    }
   ],
   "source": [
    "print(np.degrees(pepe))"
   ]
  },
  {
   "cell_type": "markdown",
   "metadata": {},
   "source": [
    "#### 2A.) Create a 2 x 2 array of random integers"
   ]
  },
  {
   "cell_type": "code",
   "execution_count": 30,
   "metadata": {},
   "outputs": [
    {
     "data": {
      "text/plain": [
       "array([[14, 17],\n",
       "       [10, 11]])"
      ]
     },
     "execution_count": 30,
     "metadata": {},
     "output_type": "execute_result"
    }
   ],
   "source": [
    "rand_array = np.random.randint(1,20, size = (2,2))\n",
    "rand_array"
   ]
  },
  {
   "cell_type": "markdown",
   "metadata": {},
   "source": [
    "#### 2B.)Transpose the matrix."
   ]
  },
  {
   "cell_type": "code",
   "execution_count": 43,
   "metadata": {},
   "outputs": [
    {
     "name": "stdout",
     "output_type": "stream",
     "text": [
      "[[14 10]\n",
      " [17 11]]\n"
     ]
    }
   ],
   "source": [
    "pepe1 = rand_array.T #Transposes the previous matrix\n",
    "print(pepe1)"
   ]
  },
  {
   "cell_type": "markdown",
   "metadata": {},
   "source": [
    "#### Find the determinant of the matrix. "
   ]
  },
  {
   "cell_type": "code",
   "execution_count": 35,
   "metadata": {},
   "outputs": [
    {
     "data": {
      "text/plain": [
       "-15.999999999999963"
      ]
     },
     "execution_count": 35,
     "metadata": {},
     "output_type": "execute_result"
    }
   ],
   "source": [
    "pepe2 = np.linalg.det(rand_array) #calculates the determinant of the previous matrix\n",
    "print('Determinant of the matrix =',pepe2)"
   ]
  },
  {
   "cell_type": "markdown",
   "metadata": {},
   "source": [
    "#### Find the inverse of the matrix."
   ]
  },
  {
   "cell_type": "code",
   "execution_count": 41,
   "metadata": {},
   "outputs": [
    {
     "name": "stdout",
     "output_type": "stream",
     "text": [
      "Inverse of matrix = [[-0.6875  1.0625]\n",
      " [ 0.625  -0.875 ]]\n"
     ]
    }
   ],
   "source": [
    "pepe3 = np.linalg.inv(rand_array) #calculates the inverse of the previous matrix\n",
    "print('Inverse of matrix =', pepe3)"
   ]
  },
  {
   "cell_type": "markdown",
   "metadata": {},
   "source": [
    "#### Find the eigenvalues and eigenvectors of the matrix."
   ]
  },
  {
   "cell_type": "code",
   "execution_count": 42,
   "metadata": {},
   "outputs": [
    {
     "name": "stdout",
     "output_type": "stream",
     "text": [
      "Eigenvalues/vectors of matrix = (array([ 25.62440475,  -0.62440475]), array([[ 0.82546958, -0.75808808],\n",
      "       [ 0.56444661,  0.65215217]]))\n"
     ]
    }
   ],
   "source": [
    "pepe4 = np.linalg.eig(rand_array) #calculates eigenvalues and eigenvectors of the previous matrix\n",
    "print('Eigenvalues/vectors of matrix =', pepe4)"
   ]
  },
  {
   "cell_type": "markdown",
   "metadata": {},
   "source": [
    "#### 3. Use an array you already have or create a new one and save it as a csv file. Use ls to check the file was saved to the current "
   ]
  },
  {
   "cell_type": "code",
   "execution_count": 48,
   "metadata": {},
   "outputs": [
    {
     "data": {
      "text/plain": [
       "array([[ 9,  5, 19, 14, 10],\n",
       "       [ 4, 17,  8,  4, 16],\n",
       "       [ 7,  4, 12, 17,  1],\n",
       "       [19,  2, 19, 11,  7],\n",
       "       [12, 18,  8,  7, 11]])"
      ]
     },
     "execution_count": 48,
     "metadata": {},
     "output_type": "execute_result"
    }
   ],
   "source": [
    "# Random array to be saves as a datafile\n",
    "ricardo_milos = np.random.randint(0,20,size = (5,5))\n",
    "ricardo_milos"
   ]
  },
  {
   "cell_type": "code",
   "execution_count": 49,
   "metadata": {},
   "outputs": [],
   "source": [
    "np.savetxt(\"ricardo.csv\",ricardo_milos,delimiter=\",\") #saves the new array as a csv file"
   ]
  },
  {
   "cell_type": "code",
   "execution_count": 50,
   "metadata": {},
   "outputs": [
    {
     "name": "stdout",
     "output_type": "stream",
     "text": [
      "Brian_1D_ProjMotion.ipynb  Brian_NumPy_Ex_1.ipynb         ricardo.csv\n",
      "Brian_Exercises_1.ipynb    Brian_NumPy_Ex_2.ipynb         \u001b[0m\u001b[01;35mtoss_rock_up_01.jpg\u001b[0m\n",
      "Brian_Exercises_2.ipynb    Brian_Plotting_Activity.ipynb  \u001b[01;35mtoss_rock_up_02.jpg\u001b[0m\n",
      "Brian_Exercises_3.ipynb    NumPy_Ex_3.ipynb\n",
      "Brian_Exercises_4.ipynb    Practice_Lists.ipynb\n"
     ]
    }
   ],
   "source": [
    "%ls #displays all files in the directory"
   ]
  },
  {
   "cell_type": "markdown",
   "metadata": {},
   "source": [
    "###### 'It is not until a mosquito lands on your testicles that you learn there is always a way to solve problems without violence -Confucious'"
   ]
  },
  {
   "cell_type": "markdown",
   "metadata": {},
   "source": [
    "###### 'As I nodded, nearly napping, suddenly there came a clapping, as of ass cheeks gently clapping, clapping at my bedroom door. \"Tis a visitor\" I muttered. dummy thicc, and nothing more -Shakespeares dummy thicc ass'"
   ]
  },
  {
   "cell_type": "code",
   "execution_count": null,
   "metadata": {},
   "outputs": [],
   "source": []
  }
 ],
 "metadata": {
  "kernelspec": {
   "display_name": "Python 3",
   "language": "python",
   "name": "python3"
  },
  "language_info": {
   "codemirror_mode": {
    "name": "ipython",
    "version": 3
   },
   "file_extension": ".py",
   "mimetype": "text/x-python",
   "name": "python",
   "nbconvert_exporter": "python",
   "pygments_lexer": "ipython3",
   "version": "3.5.3"
  }
 },
 "nbformat": 4,
 "nbformat_minor": 2
}
