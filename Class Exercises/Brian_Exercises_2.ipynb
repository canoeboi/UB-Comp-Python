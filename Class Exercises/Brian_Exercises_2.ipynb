{
 "cells": [
  {
   "cell_type": "markdown",
   "metadata": {},
   "source": [
    "### EXERCISES\n",
    "\n",
    "1. I want you to define 4 objects: \n",
    "    * An integer\n",
    "    * A float\n",
    "    * A string\n",
    "    \n",
    "2. Now change your integer to float, and your float to an integer. Define a new object that is the product of the integer and float. Change this product to an integer. \n",
    "\n",
    "\n",
    "#### PHYSICS PROBLEMS\n",
    "Most physics students are familiar with vertical motion problems. To start lets write the 3 kinematic equations of motion. I have included the equations below in latex syntax and recommend you try to practice writing equations using this format. \n",
    "\n",
    "$$v_f = v_i + a t $$\n",
    "$$y = v_i t + \\frac{1}{2} a t^2 $$\n",
    "$${v_f}^2 = {v_i}^2 + 2 a d $$\n",
    "\n",
    "1. Consider a ball that starts from the ground with an initial speed of 10 m/s and acceleration due to gravity being -10 m/s$^2$. The ball goes up, reaches a maximum height, and falls back to the ground where it started. Using the equations above, define all variables in a code cell and calculate the following values:\n",
    "    * What is the velocity at the maximum height?\n",
    "    * What is the time it takes to reach maximum height? What is the total time the ball is in the air?\n",
    "    * What is the maximum height?\n",
    "    * What is the velocity as it hits the ground again?\n",
    "    \n",
    "2. Take the same situation as above, but this time when the ball leaves the ground, a hole appears and has a depth of 5 meters. Do the following values change, yes or no? If no, why? If yes, what is the new values?\n",
    "    * Acceleration due to gravity?\n",
    "    * Maximum height?\n",
    "    * Time the ball is in the air? \n",
    "    * Velocity of the ball before hitting the ground? (or bottom of hole)\n",
    "    \n",
    "3. Go back to the situation in problem 1. Now, assume the ball is on the moon with an acceleration due to gravity of 1.625 m/s$^2$. \n",
    "    * What is the time it takes to reach maximum height? What is the total time the ball is in the air?\n",
    "    * What is the maximum height?\n",
    "    * What is the velocity as it hits the ground again?\n",
    "    \n",
    "    \n",
    "4. If you finish the above, use the internet (or ask me) to find an equation in physics. In a code cell, define values for the variables and try to write the equation. "
   ]
  },
  {
   "cell_type": "markdown",
   "metadata": {},
   "source": [
    "1.) Exercises"
   ]
  },
  {
   "cell_type": "code",
   "execution_count": 1,
   "metadata": {},
   "outputs": [
    {
     "data": {
      "text/plain": [
       "int"
      ]
     },
     "execution_count": 1,
     "metadata": {},
     "output_type": "execute_result"
    }
   ],
   "source": [
    "i=4 #Part 1\n",
    "type(i)"
   ]
  },
  {
   "cell_type": "code",
   "execution_count": 2,
   "metadata": {},
   "outputs": [
    {
     "data": {
      "text/plain": [
       "float"
      ]
     },
     "execution_count": 2,
     "metadata": {},
     "output_type": "execute_result"
    }
   ],
   "source": [
    "f=11/3\n",
    "type(f)"
   ]
  },
  {
   "cell_type": "code",
   "execution_count": 3,
   "metadata": {},
   "outputs": [
    {
     "data": {
      "text/plain": [
       "str"
      ]
     },
     "execution_count": 3,
     "metadata": {},
     "output_type": "execute_result"
    }
   ],
   "source": [
    "s='canoe'\n",
    "type(s)"
   ]
  },
  {
   "cell_type": "markdown",
   "metadata": {},
   "source": [
    "2.)"
   ]
  },
  {
   "cell_type": "code",
   "execution_count": 8,
   "metadata": {},
   "outputs": [
    {
     "name": "stdout",
     "output_type": "stream",
     "text": [
      "15.0\n"
     ]
    }
   ],
   "source": [
    "int(f)\n",
    "float(i)\n",
    "new_object=(f+i)\n",
    "print(new_object)"
   ]
  },
  {
   "cell_type": "markdown",
   "metadata": {},
   "source": [
    "3.) Physics\n",
    "\n",
    "Part 1 - Velocity at the maximum height is zero"
   ]
  },
  {
   "cell_type": "markdown",
   "metadata": {},
   "source": [
    "Part 2 "
   ]
  },
  {
   "cell_type": "code",
   "execution_count": 2,
   "metadata": {},
   "outputs": [
    {
     "name": "stdout",
     "output_type": "stream",
     "text": [
      "Total time in air = 1.0204081632653061 seconds\n",
      "Since maxiumum height is at exactly half, time taken to reach maximum height = 0.5102040816326531\n"
     ]
    }
   ],
   "source": [
    "vi=10\n",
    "a=-9.8\n",
    "vf=0\n",
    "t=(vf-vi)/a\n",
    "print('Total time in air =', t,'seconds')\n",
    "print('Since maxiumum height is at exactly half, time taken to reach maximum height =', t/2)"
   ]
  },
  {
   "cell_type": "code",
   "execution_count": 32,
   "metadata": {},
   "outputs": [
    {
     "name": "stdout",
     "output_type": "stream",
     "text": [
      "Maximum Height = 3.8265306122448974\n"
     ]
    }
   ],
   "source": [
    "y=(vi*t/2)\n",
    "g=.5*a*t/2*t/2\n",
    "print('Maximum Height ='y+g)"
   ]
  },
  {
   "cell_type": "code",
   "execution_count": 33,
   "metadata": {},
   "outputs": [
    {
     "name": "stdout",
     "output_type": "stream",
     "text": [
      "Final velocity equals initial velocity if object is given initial velocity, therefore velocity as it hits the ground = 10\n"
     ]
    }
   ],
   "source": [
    "print('Final velocity equals initial velocity if object is given initial velocity, therefore velocity as it hits the ground =', vi)"
   ]
  },
  {
   "cell_type": "code",
   "execution_count": null,
   "metadata": {},
   "outputs": [],
   "source": []
  }
 ],
 "metadata": {
  "kernelspec": {
   "display_name": "Python 3",
   "language": "python",
   "name": "python3"
  },
  "language_info": {
   "codemirror_mode": {
    "name": "ipython",
    "version": 3
   },
   "file_extension": ".py",
   "mimetype": "text/x-python",
   "name": "python",
   "nbconvert_exporter": "python",
   "pygments_lexer": "ipython3",
   "version": "3.5.3"
  }
 },
 "nbformat": 4,
 "nbformat_minor": 2
}
