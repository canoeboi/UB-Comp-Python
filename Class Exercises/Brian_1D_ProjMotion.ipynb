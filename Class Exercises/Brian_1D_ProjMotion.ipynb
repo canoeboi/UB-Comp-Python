{
 "cells": [
  {
   "cell_type": "markdown",
   "metadata": {},
   "source": [
    "### Solving 1D Projectile Motion Problems\n",
    "Wrie down the equations that we need:\n",
    "* v_f = v_i + a t\n",
    "* y_f = y_i + v_i t + 1/2a t^2\n",
    "* v_f^2 = v_i^2 + 2a (y_f-y_i)\n",
    "\n",
    "Latex(optional)\n",
    "$$ v_f = v_i + at $$\n",
    "$$ y_f = y_i + v_i t + 1/2 a t^2 $$\n",
    "$$ {v_f} ^2 = {v_i} ^2 + 2a (y_f - y_i) $$\n",
    "\n",
    "Define each variable physically with units:\n",
    "$$ * v_f : final velocity - m/s $$\n",
    "$$ * v_i : initial velocity - m/s $$\n",
    "$$ * y_f : final position (height) - m $$\n",
    "$$ * y_i : initial position (height)- m $$\n",
    "$$ * a   : acceleration - m/s^2 --> m/s/s $$\n",
    "$$ * t   : time - seconds(s) $$ \n",
    "\n",
    "Read the problem.\n",
    "\n",
    "\"Consider a ball that starts from the ground with an initial speed of 20 m/s and acceleration due to gravity being -10 m/s$^2$. The ball goes up, reaches a maximum height, and falls back to the ground where it started.\"\n",
    "\n",
    "Picture of situation:\n",
    "\n",
    "![title](toss_rock_up_01.jpg)\n",
    "\n",
    "Known Values:\n",
    "$$  v_f = 10 m/s $$\n",
    "$$  v_i = 10 m/s $$\n",
    "$$  v_ymax = 0 m/s $$\n",
    "$$  y_f = 0 m $$\n",
    "$$  y_i = 0 m $$\n",
    "$$  a = -10 m/s^2 $$\n",
    "\n",
    "![title](toss_rock_up_02.jpg)\n",
    "\n",
    "Answers to questions:\n",
    "\n",
    "i. Velocity at the maximum height is zero\n",
    "ii. a.) Finding time taken to reach max height. \n",
    "\n",
    "t_ymax = ?\n",
    "\n",
    "Chose necessary eqaution: $$ v_f = v_i + a t $$\n",
    "\n",
    "Let v_f --> v_ymax\n",
    "\n",
    "and let\n",
    "\n",
    "t--> t_ymax\n",
    "\n",
    "Equation now looks like:\n",
    "\n",
    "$$ v_ymax = v_i + a t_ymax $$\n",
    "\n",
    "Now solve for t_ymax using algebra:\n",
    "\n",
    "$$ v_ymax = v_i + a t_ymax $$\n",
    "\n",
    "$$ i) v_ymax - v_i = v_i + a t_ymax - v_i $$ \n",
    "\n",
    "$$ ii) v_ymax - v_i = a t_ymax $$\n",
    "\n",
    "$$ iii) (v_ymax - v_i)/a = t_ymax $$\n",
    "\n",
    "Write t_ymax on the left\n",
    "\n",
    "$$ iv) t_ymax = (v_ymax - v_i)/a $$\n",
    "\n",
    "Make code cell, define known variable and write/define expression for t_ymax\n",
    "\n",
    "\n"
   ]
  },
  {
   "cell_type": "code",
   "execution_count": 20,
   "metadata": {},
   "outputs": [
    {
     "name": "stdout",
     "output_type": "stream",
     "text": [
      "Time at Maximum Height\n",
      "2.0\n"
     ]
    }
   ],
   "source": [
    "# coding calculation for t_ymax\n",
    "# first define known variables\n",
    "v_i =20 #m/s initial velocity\n",
    "v_ymax = 0 #m/s velocity at max height\n",
    "a = -10 #acceleration (due to gravity)\n",
    "\n",
    "t_ymax = (v_ymax - v_i)/a\n",
    "print( 'Time at Maximum Height') \n",
    "print(round(t_ymax, 2,));"
   ]
  },
  {
   "cell_type": "markdown",
   "metadata": {},
   "source": [
    "Part B) Finding total air time.\n",
    "We know that the total time is equal to 2 times the time it takes to reach max height."
   ]
  },
  {
   "cell_type": "code",
   "execution_count": 22,
   "metadata": {},
   "outputs": [
    {
     "name": "stdout",
     "output_type": "stream",
     "text": [
      "Total air time = 4.0 seconds.\n"
     ]
    }
   ],
   "source": [
    "#Code variable t_tot as 2 times t_ymax\n",
    "t_tot=2*t_ymax\n",
    "print('Total air time =',t_tot,'seconds.')"
   ]
  },
  {
   "cell_type": "markdown",
   "metadata": {},
   "source": [
    "Part C.) What is the maximum height?\n",
    "\n",
    "Determine necessary equation:\n",
    "\n",
    " * y_f = 0 m \n",
    " * y_i = 0 m \n",
    " * v_ymax = 0 m/s \n",
    " * v_i = 20 m/s \n",
    " * t_ymax = 2 s \n",
    " * a = -10 m/s^2 \n",
    " * t_tot = 4 s \n",
    " \n",
    " find ymax:\n",
    " \n",
    " Start With: \n",
    " y_f = y_i + v_i t + 1/2 a t^2\n",
    " \n",
    " change y_f --> ymax and t --> t_ymax\n",
    " \n",
    " so we have the equation:\n",
    " \n",
    " ymax = y_i + v_i t_ymax + 1/2 a (t_ymax)^2 \n",
    "\n"
   ]
  },
  {
   "cell_type": "code",
   "execution_count": 21,
   "metadata": {},
   "outputs": [
    {
     "name": "stdout",
     "output_type": "stream",
     "text": [
      "20.0\n"
     ]
    }
   ],
   "source": [
    "# Calculating max height, y_max\n",
    "# First define new variables needed\n",
    "y_i = 0\n",
    "ymax = y_i + v_i * t_ymax + 1/2*a*(t_ymax**2) # ** is for exponent\n",
    "print(round(ymax,2));"
   ]
  },
  {
   "cell_type": "markdown",
   "metadata": {},
   "source": []
  }
 ],
 "metadata": {
  "kernelspec": {
   "display_name": "Python 3",
   "language": "python",
   "name": "python3"
  },
  "language_info": {
   "codemirror_mode": {
    "name": "ipython",
    "version": 3
   },
   "file_extension": ".py",
   "mimetype": "text/x-python",
   "name": "python",
   "nbconvert_exporter": "python",
   "pygments_lexer": "ipython3",
   "version": "3.5.3"
  }
 },
 "nbformat": 4,
 "nbformat_minor": 2
}
