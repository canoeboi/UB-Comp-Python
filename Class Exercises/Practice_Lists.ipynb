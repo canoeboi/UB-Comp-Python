{
 "cells": [
  {
   "cell_type": "markdown",
   "metadata": {},
   "source": [
    "### Practice with lists"
   ]
  },
  {
   "cell_type": "code",
   "execution_count": 1,
   "metadata": {},
   "outputs": [
    {
     "data": {
      "text/plain": [
       "[2, 3, 4]"
      ]
     },
     "execution_count": 1,
     "metadata": {},
     "output_type": "execute_result"
    }
   ],
   "source": [
    "#define some lists\n",
    "#lists start counting from 0\n",
    "x_list = [1,2,3,4,5]\n",
    "y_list = [2,4,6,8,10]\n",
    "\n",
    "# indexing the lists.the value in the brackets is the index\n",
    "x_list[0] # to print out first element in the list\n",
    "x_list[1] # to print out the 2nd element\n",
    "x_list[4]\n",
    "x_list[-1] # to print out the last element of the list\n",
    "x_list[1:4] # to get certain parts of list"
   ]
  },
  {
   "cell_type": "markdown",
   "metadata": {},
   "source": [
    "# hard code y_list = 2*x_list\n",
    "# (_＼ヽ\n",
    "# 　 ＼＼ .Λ＿Λ.\n",
    "# 　　 ＼(　ˇωˇ)　\n",
    "# 　　　 >　⌒ヽ\n",
    "# 　　　/ 　 へ＼\n",
    "# 　　 /　　/　＼＼\n",
    "# 　　 ﾚ　ノ　　 ヽ_つ\n",
    "# 　　/　/\n",
    "# 　 /　/|\n",
    "# 　(　(ヽ\n",
    "# 　|　|、＼\n",
    "# 　| 丿 ＼ ⌒)\n",
    "# 　| |　　) /\n",
    "# `ノ ) 　 Lﾉ\n",
    "# (_／"
   ]
  },
  {
   "cell_type": "code",
   "execution_count": null,
   "metadata": {},
   "outputs": [],
   "source": []
  }
 ],
 "metadata": {
  "kernelspec": {
   "display_name": "Python 3",
   "language": "python",
   "name": "python3"
  },
  "language_info": {
   "codemirror_mode": {
    "name": "ipython",
    "version": 3
   },
   "file_extension": ".py",
   "mimetype": "text/x-python",
   "name": "python",
   "nbconvert_exporter": "python",
   "pygments_lexer": "ipython3",
   "version": "3.5.3"
  }
 },
 "nbformat": 4,
 "nbformat_minor": 2
}
