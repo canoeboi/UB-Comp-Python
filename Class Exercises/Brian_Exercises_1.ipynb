{
 "cells": [
  {
   "cell_type": "markdown",
   "metadata": {},
   "source": [
    "### EXERCISES\n",
    "To practice the skills we have learned so far I want you to complete the following tasks to the best of your ability. For each problem I want a markdown cell that has the number of the problem you are solving, a brief description with what the problem is asking and a few sentences that explain how you plan to write the code. You do not need to have each problem in one code cell, use as many as necessary. Use comments in each line of the code cells to explain the commands being used. \n",
    "\n",
    "1. Create a folder for all the files that will be saved for this class. Name the folder something related to the title of this course. Inside that folder create 2 more folders one for in class notes and files from canvas. Take the time to move all the lecture files from canvas into the class notes folder.\n",
    "\n",
    "AT THIS POINT CHECK WITH ME TO MAKE SURE EVERYTHING IS FINE.\n",
    "\n",
    "2. On canvas find the first exercises file, download it, and then move it to the folder for exercises. Change the name of this python notebook to [YOUR NAME]EX_1. \n",
    "\n",
    "3. Tell me a few things about yourself:\n",
    "    * Why did you sign up for this class?\n",
    "    * What are your interests in school? Outside of school?\n",
    "    * Tell me about your experience with computers.\n",
    "\n",
    "\n",
    "If you complete the tasks above try some of these practice problems using code cells:\n",
    "\n",
    "1. How do you multiply two numbers 5 and 6?\n",
    "\n",
    "2. How do you print the phrase 'Hello world!'?\n",
    "\n",
    "3. Can you use a print statement to print the phrase '5 times 6 =' and then actually code the multiplication?\n",
    "\n",
    "4. How do you raise a number to a power? Evaluate 4^10.\n",
    "\n",
    "5. Add a markdown cell and try to summarize everything you learned today."
   ]
  },
  {
   "cell_type": "markdown",
   "metadata": {},
   "source": [
    "3 A.) I signed up for the class mainly because I have always wanted to dip into computer science, but did not know where to start. When I heard that Upward Bound was going to offer a computer science class in the summer, I immediately signed up for this class.\n",
    "  B.) In terms of school, I am interested in subjects such as art, digital arts, computer science, etc. Outside of school, I am invested in playing video games, playing tennis, and doing whatever I feel the need to do.\n",
    "  C.) I feel like I am pretty fluent in using a computer, in fact I built my own, but that is an easy task for everyone. Now that I am taking this computer science class, this becomes another skill to add to my list. \n",
    "\n"
   ]
  },
  {
   "cell_type": "markdown",
   "metadata": {},
   "source": [
    "# 1.)How to Multiply Numbers"
   ]
  },
  {
   "cell_type": "code",
   "execution_count": 1,
   "metadata": {},
   "outputs": [
    {
     "data": {
      "text/plain": [
       "30"
      ]
     },
     "execution_count": 1,
     "metadata": {},
     "output_type": "execute_result"
    }
   ],
   "source": [
    "5*6"
   ]
  },
  {
   "cell_type": "markdown",
   "metadata": {},
   "source": [
    "# 2.)Print Text"
   ]
  },
  {
   "cell_type": "code",
   "execution_count": 2,
   "metadata": {},
   "outputs": [
    {
     "name": "stdout",
     "output_type": "stream",
     "text": [
      "Hello World\n"
     ]
    }
   ],
   "source": [
    "print('Hello World')"
   ]
  },
  {
   "cell_type": "markdown",
   "metadata": {},
   "source": [
    "# 3.)How to Print Code"
   ]
  },
  {
   "cell_type": "code",
   "execution_count": 7,
   "metadata": {},
   "outputs": [
    {
     "name": "stdout",
     "output_type": "stream",
     "text": [
      "5 times 6 = 30\n"
     ]
    }
   ],
   "source": [
    "print('5 times 6 =',5*6)"
   ]
  },
  {
   "cell_type": "markdown",
   "metadata": {},
   "source": [
    "# 4.)Exponents"
   ]
  },
  {
   "cell_type": "code",
   "execution_count": 8,
   "metadata": {},
   "outputs": [
    {
     "data": {
      "text/plain": [
       "1048576"
      ]
     },
     "execution_count": 8,
     "metadata": {},
     "output_type": "execute_result"
    }
   ],
   "source": [
    "4**10"
   ]
  },
  {
   "cell_type": "markdown",
   "metadata": {},
   "source": [
    "# 5.)Summary"
   ]
  },
  {
   "cell_type": "markdown",
   "metadata": {},
   "source": [
    "Today I learned the start of the basics to python. Print commands allow text to be printed out and I could make a simple word problem. Using markdown cells, I could type in paragraphs of text."
   ]
  },
  {
   "cell_type": "code",
   "execution_count": null,
   "metadata": {},
   "outputs": [],
   "source": []
  }
 ],
 "metadata": {
  "kernelspec": {
   "display_name": "Python 3",
   "language": "python",
   "name": "python3"
  },
  "language_info": {
   "codemirror_mode": {
    "name": "ipython",
    "version": 3
   },
   "file_extension": ".py",
   "mimetype": "text/x-python",
   "name": "python",
   "nbconvert_exporter": "python",
   "pygments_lexer": "ipython3",
   "version": "3.5.3"
  }
 },
 "nbformat": 4,
 "nbformat_minor": 2
}
