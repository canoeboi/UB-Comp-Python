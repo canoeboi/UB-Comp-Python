{
 "cells": [
  {
   "cell_type": "markdown",
   "metadata": {},
   "source": [
    "### EXERCISES\n",
    "1. Create a markdown cell that says 'Import NumPy Package'. Underneath that, in a code cell, import the numpy package as np. If you know you are going to use numpy in a notebook you should always import it at the top. \n",
    "\n",
    "2. Create a 3 by 3 array by typing in the elements and then print the array. \n",
    "    * Define another array equal to 5 times the first array. Print.\n",
    "    * Define another array equal to the sum of the two arrays. Print.\n",
    "        \n",
    "3. Using np.arange create an array of all the evens from 1-50 and define it as EVENS. Create an ODDS array with the odds.\n",
    "    * Do the same but now with np.linspace. \n",
    "    \n",
    "#### PHYSICS PROBLEMS\n",
    "\n",
    "The Ideal Gas Law:\n",
    "$$PV = nRT $$\n",
    "\n",
    "The equation above is known as the ideal gas law and it describes the relationship between the pressure (P: Pascals), the volume (V: cubic meters), the number of moles of gas (n: moles), and the temperature (T: Kelvin) of an ideal gas. R is the gas constant which is 8.31 $\\frac{J}{K \\cdot mol} $. We have used lists, functions, and for loops to evaluate formulas for lists of values, but now we will use numpy arrays to see how it makes it easier.\n",
    "\n",
    "1. Can you write a function that calculates the pressure for a system when you input values for temperature, number of moles, and volume? You can define the gas constant or write the number. \n",
    "    * Call your function and give it a single value for each of the input variables (n, V, and T). \n",
    "\n",
    "2. Lets say you want to pass the function a variety of values for the volume. \n",
    "    * Define a list called 'vol_list' with at least 5 values. Try to pass this to your function. \n",
    "    * Convert the list to a numpy array and pass it to the function. \n",
    "    * Write about the advantages of using a numpy array vs a list. "
   ]
  },
  {
   "cell_type": "markdown",
   "metadata": {},
   "source": [
    "Import NumPy Package"
   ]
  },
  {
   "cell_type": "code",
   "execution_count": 45,
   "metadata": {},
   "outputs": [],
   "source": [
    "import numpy as np\n",
    "import matplotlib.pyplot as plt\n",
    "%matplotlib inline"
   ]
  },
  {
   "cell_type": "markdown",
   "metadata": {},
   "source": [
    "### 1A.) Create a 3x3 array by typing in the elements and then print the array"
   ]
  },
  {
   "cell_type": "code",
   "execution_count": 32,
   "metadata": {},
   "outputs": [
    {
     "data": {
      "text/plain": [
       "array([[1, 2, 3],\n",
       "       [4, 5, 6],\n",
       "       [7, 8, 9]])"
      ]
     },
     "execution_count": 32,
     "metadata": {},
     "output_type": "execute_result"
    }
   ],
   "source": [
    "a_array = np.array([[1,2,3], #1st row, 3 elements long\n",
    "                    [4,5,6], #2nd row, 3 elements long\n",
    "                    [7,8,9]]) #3rd row, 3 elements long\n",
    "a_array"
   ]
  },
  {
   "cell_type": "markdown",
   "metadata": {},
   "source": [
    "### 1B.) Define another array equal to 5 times the first array"
   ]
  },
  {
   "cell_type": "code",
   "execution_count": 33,
   "metadata": {},
   "outputs": [
    {
     "data": {
      "text/plain": [
       "array([[ 5, 10, 15],\n",
       "       [20, 25, 30],\n",
       "       [35, 40, 45]])"
      ]
     },
     "execution_count": 33,
     "metadata": {},
     "output_type": "execute_result"
    }
   ],
   "source": [
    "a5_array = a_array*5\n",
    "a5_array"
   ]
  },
  {
   "cell_type": "markdown",
   "metadata": {},
   "source": [
    "### 1C.) Define another array equal to the sum of the 2 arrays"
   ]
  },
  {
   "cell_type": "code",
   "execution_count": 34,
   "metadata": {},
   "outputs": [
    {
     "data": {
      "text/plain": [
       "array([[ 6, 12, 18],\n",
       "       [24, 30, 36],\n",
       "       [42, 48, 54]])"
      ]
     },
     "execution_count": 34,
     "metadata": {},
     "output_type": "execute_result"
    }
   ],
   "source": [
    "c_array = a_array+a5_array\n",
    "c_array"
   ]
  },
  {
   "cell_type": "markdown",
   "metadata": {},
   "source": [
    "### 2.) Using np.arange create an array of all the evens from 1-50 and define it as EVENS. Create an ODDS array with the odds."
   ]
  },
  {
   "cell_type": "code",
   "execution_count": 35,
   "metadata": {},
   "outputs": [
    {
     "name": "stdout",
     "output_type": "stream",
     "text": [
      "[ 0  2  4  6  8 10 12 14 16 18 20 22 24 26 28 30 32 34 36 38 40 42 44 46 48\n",
      " 50]\n",
      "[ 1  3  5  7  9 11 13 15 17 19 21 23 25 27 29 31 33 35 37 39 41 43 45 47 49]\n"
     ]
    }
   ],
   "source": [
    "evens = np.arange(0,52,2)\n",
    "print(evens)\n",
    "odds = np.arange(1,51,2)\n",
    "print(odds)"
   ]
  },
  {
   "cell_type": "markdown",
   "metadata": {},
   "source": [
    "### 3.) Do the same but now with linspace"
   ]
  },
  {
   "cell_type": "code",
   "execution_count": 36,
   "metadata": {},
   "outputs": [
    {
     "name": "stdout",
     "output_type": "stream",
     "text": [
      "[  2.   4.   6.   8.  10.  12.  14.  16.  18.  20.  22.  24.  26.  28.  30.\n",
      "  32.  34.  36.  38.  40.  42.  44.  46.  48.  50.]\n"
     ]
    }
   ],
   "source": [
    "evens2 = np.linspace(2,50,25)\n",
    "print(evens2)"
   ]
  },
  {
   "cell_type": "code",
   "execution_count": 37,
   "metadata": {},
   "outputs": [
    {
     "name": "stdout",
     "output_type": "stream",
     "text": [
      "[  1.   3.   5.   7.   9.  11.  13.  15.  17.  19.  21.  23.  25.  27.  29.\n",
      "  31.  33.  35.  37.  39.  41.  43.  45.  47.  49.]\n"
     ]
    }
   ],
   "source": [
    "odds2 = np.linspace(1,49,25)\n",
    "print(odds2)"
   ]
  },
  {
   "cell_type": "markdown",
   "metadata": {},
   "source": [
    "The Ideal Gas Law:\n",
    "$$PV = nRT $$\n",
    "\n",
    "The equation above is known as the ideal gas law and it describes the relationship between the pressure (P: Pascals), the volume (V: cubic meters), the number of moles of gas (n: moles), and the temperature (T: Kelvin) of an ideal gas. R is the gas constant which is 8.31 $\\frac{J}{K \\cdot mol} $. We have used lists, functions, and for loops to evaluate formulas for lists of values, but now we will use numpy arrays to see how it makes it easier.\n",
    "\n",
    "1. Can you write a function that calculates the pressure for a system when you input values for temperature, number of moles, and volume? You can define the gas constant or write the number. \n",
    "    * Call your function and give it a single value for each of the input variables (n, V, and T). \n",
    "\n",
    "2. Lets say you want to pass the function a variety of values for the volume. \n",
    "    * Define a list called 'vol_list' with at least 5 values. Try to pass this to your function. \n",
    "    * Convert the list to a numpy array and pass it to the function. \n",
    "    * Write about the advantages of using a numpy array vs a list. "
   ]
  },
  {
   "cell_type": "markdown",
   "metadata": {},
   "source": [
    "### Physics Problems\n",
    "\n",
    "#### 1.)PV = nRT Write af unction to calculate pressure with n, V and T as the inputs"
   ]
  },
  {
   "cell_type": "code",
   "execution_count": 38,
   "metadata": {},
   "outputs": [],
   "source": [
    "r = 8.31 #gas constant\n",
    "def calc_press(n,v,t): #defines the function with the variables n,v and t\n",
    "    p = (n*r*t)/v #defined function\n",
    "    return p"
   ]
  },
  {
   "cell_type": "markdown",
   "metadata": {},
   "source": [
    "#### Call your function and give it a single value for each of the input variables(n,V, and T)."
   ]
  },
  {
   "cell_type": "code",
   "execution_count": 39,
   "metadata": {},
   "outputs": [
    {
     "data": {
      "text/plain": [
       "12.465"
      ]
     },
     "execution_count": 39,
     "metadata": {},
     "output_type": "execute_result"
    }
   ],
   "source": [
    "calc_press(3,4,2)"
   ]
  },
  {
   "cell_type": "markdown",
   "metadata": {},
   "source": [
    " #### 2.) Define a list called 'vol_list' with at least 5 values. Try to pass this to your function."
   ]
  },
  {
   "cell_type": "code",
   "execution_count": 40,
   "metadata": {},
   "outputs": [
    {
     "ename": "TypeError",
     "evalue": "unsupported operand type(s) for /: 'float' and 'list'",
     "output_type": "error",
     "traceback": [
      "\u001b[0;31m---------------------------------------------------------------------------\u001b[0m",
      "\u001b[0;31mTypeError\u001b[0m                                 Traceback (most recent call last)",
      "\u001b[0;32m<ipython-input-40-04c24929a657>\u001b[0m in \u001b[0;36m<module>\u001b[0;34m\u001b[0m\n\u001b[1;32m      1\u001b[0m \u001b[0mvol_list\u001b[0m \u001b[0;34m=\u001b[0m \u001b[0;34m[\u001b[0m\u001b[0;36m2\u001b[0m\u001b[0;34m,\u001b[0m\u001b[0;36m4\u001b[0m\u001b[0;34m,\u001b[0m\u001b[0;36m6\u001b[0m\u001b[0;34m,\u001b[0m\u001b[0;36m8\u001b[0m\u001b[0;34m,\u001b[0m\u001b[0;36m10\u001b[0m\u001b[0;34m]\u001b[0m\u001b[0;34m\u001b[0m\u001b[0m\n\u001b[1;32m      2\u001b[0m \u001b[0;34m\u001b[0m\u001b[0m\n\u001b[0;32m----> 3\u001b[0;31m \u001b[0mcalc_press\u001b[0m\u001b[0;34m(\u001b[0m\u001b[0;36m1\u001b[0m\u001b[0;34m,\u001b[0m\u001b[0mvol_list\u001b[0m\u001b[0;34m,\u001b[0m\u001b[0;36m50\u001b[0m\u001b[0;34m)\u001b[0m \u001b[0;31m#when trying to input a list, you will have to use a for loop to input\u001b[0m\u001b[0;34m\u001b[0m\u001b[0m\n\u001b[0m",
      "\u001b[0;32m<ipython-input-38-b9f7fac27414>\u001b[0m in \u001b[0;36mcalc_press\u001b[0;34m(n, v, t)\u001b[0m\n\u001b[1;32m      1\u001b[0m \u001b[0mr\u001b[0m \u001b[0;34m=\u001b[0m \u001b[0;36m8.31\u001b[0m \u001b[0;31m#gas constant\u001b[0m\u001b[0;34m\u001b[0m\u001b[0m\n\u001b[1;32m      2\u001b[0m \u001b[0;32mdef\u001b[0m \u001b[0mcalc_press\u001b[0m\u001b[0;34m(\u001b[0m\u001b[0mn\u001b[0m\u001b[0;34m,\u001b[0m\u001b[0mv\u001b[0m\u001b[0;34m,\u001b[0m\u001b[0mt\u001b[0m\u001b[0;34m)\u001b[0m\u001b[0;34m:\u001b[0m\u001b[0;34m\u001b[0m\u001b[0m\n\u001b[0;32m----> 3\u001b[0;31m     \u001b[0mp\u001b[0m \u001b[0;34m=\u001b[0m \u001b[0;34m(\u001b[0m\u001b[0mn\u001b[0m\u001b[0;34m*\u001b[0m\u001b[0mr\u001b[0m\u001b[0;34m*\u001b[0m\u001b[0mt\u001b[0m\u001b[0;34m)\u001b[0m\u001b[0;34m/\u001b[0m\u001b[0mv\u001b[0m\u001b[0;34m\u001b[0m\u001b[0m\n\u001b[0m\u001b[1;32m      4\u001b[0m     \u001b[0;32mreturn\u001b[0m \u001b[0mp\u001b[0m\u001b[0;34m\u001b[0m\u001b[0m\n",
      "\u001b[0;31mTypeError\u001b[0m: unsupported operand type(s) for /: 'float' and 'list'"
     ]
    }
   ],
   "source": [
    "vol_list = [2,4,6,8,10]\n",
    "\n",
    "calc_press(1,vol_list,50) #when trying to input a list, you will have to use a for loop to input"
   ]
  },
  {
   "cell_type": "markdown",
   "metadata": {},
   "source": [
    "### Convert the list into a numpy array and pass it to the function"
   ]
  },
  {
   "cell_type": "code",
   "execution_count": 43,
   "metadata": {},
   "outputs": [
    {
     "data": {
      "text/plain": [
       "array([ 207.75  ,  103.875 ,   69.25  ,   51.9375,   41.55  ])"
      ]
     },
     "execution_count": 43,
     "metadata": {},
     "output_type": "execute_result"
    }
   ],
   "source": [
    "vol_array = np.array([2,4,6,8,10]) \n",
    "\n",
    "pressure = calc_press(1,vol_array,50)\n",
    "pressure"
   ]
  },
  {
   "cell_type": "markdown",
   "metadata": {},
   "source": [
    "#### Write about the advantages of numpy arrays over a list\n",
    "\n",
    "Arrays are better than lists because functions do not always need a for loop."
   ]
  },
  {
   "cell_type": "code",
   "execution_count": 48,
   "metadata": {},
   "outputs": [
    {
     "data": {
      "image/png": "[encoded data removed]",
      "text/plain": [
       "<matplotlib.figure.Figure at 0x6f105270>"
      ]
     },
     "metadata": {
      "needs_background": "light"
     },
     "output_type": "display_data"
    }
   ],
   "source": [
    "plt.plot(vol_array,pressure,'b*', label = 'Data')\n",
    "plt.title('REEEEE')\n",
    "plt.xlabel('Volume(cm^3)')\n",
    "plt.ylabel('Pressure(Pa)')\n",
    "plt.legend()\n",
    "plt.show()"
   ]
  },
  {
   "cell_type": "code",
   "execution_count": null,
   "metadata": {},
   "outputs": [],
   "source": []
  }
 ],
 "metadata": {
  "kernelspec": {
   "display_name": "Python 3",
   "language": "python",
   "name": "python3"
  },
  "language_info": {
   "codemirror_mode": {
    "name": "ipython",
    "version": 3
   },
   "file_extension": ".py",
   "mimetype": "text/x-python",
   "name": "python",
   "nbconvert_exporter": "python",
   "pygments_lexer": "ipython3",
   "version": "3.5.3"
  }
 },
 "nbformat": 4,
 "nbformat_minor": 2
}
